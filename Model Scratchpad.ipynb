{
 "cells": [
  {
   "cell_type": "code",
   "execution_count": 111,
   "metadata": {
    "collapsed": false
   },
   "outputs": [],
   "source": [
    "import pandas as pd\n",
    "from nltk.tokenize import word_tokenize\n",
    "from nltk.stem.snowball import SnowballStemmer\n",
    "from sklearn.feature_extraction.text import TfidfVectorizer\n",
    "from nltk.corpus import stopwords\n",
    "snowball = SnowballStemmer('english')\n",
    "from sklearn.model_selection import train_test_split\n",
    "from sklearn.naive_bayes import MultinomialNB\n",
    "from sklearn.metrics import confusion_matrix\n",
    "from collections import Counter\n",
    "import string\n",
    "from nltk.tag import pos_tag\n",
    "from sklearn.metrics import roc_curve\n",
    "import matplotlib.pyplot as plt\n",
    "from sklearn.metrics import auc\n",
    "from sklearn.cross_validation import KFold\n",
    "from sklearn.model_selection import cross_val_score\n",
    "import cPickle as pickle\n",
    "%matplotlib inline"
   ]
  },
  {
   "cell_type": "code",
   "execution_count": 2,
   "metadata": {
    "collapsed": true
   },
   "outputs": [],
   "source": [
    "def clean_csv(filename):\n",
    "    new_df = pd.read_csv(filename)\n",
    "    clean_df = new_df.rename(index=str, columns={\"0\": \"title\", \"1\": \"link\", '2': 'content'})\n",
    "    clean_df = clean_df.drop_duplicates(subset='content')\n",
    "    clean_df = clean_df.dropna(how='any')\n",
    "    clean_df = clean_df.drop('Unnamed: 0', axis=1)\n",
    "    return clean_df"
   ]
  },
  {
   "cell_type": "code",
   "execution_count": 3,
   "metadata": {
    "collapsed": false
   },
   "outputs": [],
   "source": [
    "false = clean_csv('data/false_corpus.csv')\n",
    "true = clean_csv('data/corpus.csv')"
   ]
  },
  {
   "cell_type": "code",
   "execution_count": 4,
   "metadata": {
    "collapsed": false
   },
   "outputs": [
    {
     "data": {
      "text/html": [
       "<div>\n",
       "<table border=\"1\" class=\"dataframe\">\n",
       "  <thead>\n",
       "    <tr style=\"text-align: right;\">\n",
       "      <th></th>\n",
       "      <th>title</th>\n",
       "      <th>link</th>\n",
       "      <th>content</th>\n",
       "    </tr>\n",
       "  </thead>\n",
       "  <tbody>\n",
       "    <tr>\n",
       "      <th>count</th>\n",
       "      <td>2239</td>\n",
       "      <td>2239</td>\n",
       "      <td>2239</td>\n",
       "    </tr>\n",
       "    <tr>\n",
       "      <th>unique</th>\n",
       "      <td>2202</td>\n",
       "      <td>2202</td>\n",
       "      <td>2239</td>\n",
       "    </tr>\n",
       "    <tr>\n",
       "      <th>top</th>\n",
       "      <td>Best Foods to Eat While Pregnant</td>\n",
       "      <td>http://www.foodandnutrition.org/Stone-Soup/Apr...</td>\n",
       "      <td>Great basic info on breastfeeding and tongue-t...</td>\n",
       "    </tr>\n",
       "    <tr>\n",
       "      <th>freq</th>\n",
       "      <td>3</td>\n",
       "      <td>4</td>\n",
       "      <td>1</td>\n",
       "    </tr>\n",
       "  </tbody>\n",
       "</table>\n",
       "</div>"
      ],
      "text/plain": [
       "                                    title  \\\n",
       "count                                2239   \n",
       "unique                               2202   \n",
       "top      Best Foods to Eat While Pregnant   \n",
       "freq                                    3   \n",
       "\n",
       "                                                     link  \\\n",
       "count                                                2239   \n",
       "unique                                               2202   \n",
       "top     http://www.foodandnutrition.org/Stone-Soup/Apr...   \n",
       "freq                                                    4   \n",
       "\n",
       "                                                  content  \n",
       "count                                                2239  \n",
       "unique                                               2239  \n",
       "top     Great basic info on breastfeeding and tongue-t...  \n",
       "freq                                                    1  "
      ]
     },
     "execution_count": 4,
     "metadata": {},
     "output_type": "execute_result"
    }
   ],
   "source": [
    "true.describe()"
   ]
  },
  {
   "cell_type": "code",
   "execution_count": 5,
   "metadata": {
    "collapsed": false
   },
   "outputs": [],
   "source": [
    "false['label'] = 0"
   ]
  },
  {
   "cell_type": "code",
   "execution_count": 6,
   "metadata": {
    "collapsed": false
   },
   "outputs": [],
   "source": [
    "true['label'] = 1"
   ]
  },
  {
   "cell_type": "code",
   "execution_count": 7,
   "metadata": {
    "collapsed": false
   },
   "outputs": [],
   "source": [
    "content = [false, true]"
   ]
  },
  {
   "cell_type": "code",
   "execution_count": 8,
   "metadata": {
    "collapsed": true
   },
   "outputs": [],
   "source": [
    "all_content = pd.concat(content)"
   ]
  },
  {
   "cell_type": "code",
   "execution_count": null,
   "metadata": {
    "collapsed": true
   },
   "outputs": [],
   "source": [
    "stem = "
   ]
  },
  {
   "cell_type": "code",
   "execution_count": null,
   "metadata": {
    "collapsed": true
   },
   "outputs": [],
   "source": []
  },
  {
   "cell_type": "code",
   "execution_count": null,
   "metadata": {
    "collapsed": true
   },
   "outputs": [],
   "source": []
  },
  {
   "cell_type": "code",
   "execution_count": null,
   "metadata": {
    "collapsed": true
   },
   "outputs": [],
   "source": []
  },
  {
   "cell_type": "code",
   "execution_count": null,
   "metadata": {
    "collapsed": true
   },
   "outputs": [],
   "source": []
  },
  {
   "cell_type": "code",
   "execution_count": 9,
   "metadata": {
    "collapsed": false
   },
   "outputs": [],
   "source": [
    "def find_exclamations(title):\n",
    "    title = str(title).strip()\n",
    "    return sum([1 for letter in title if letter == '!'])/float(len(title))\n",
    "\n",
    "def unique_word_pct(string):\n",
    "    unique_words = set()\n",
    "    for word in string.split():\n",
    "        unique_words.add(word)\n",
    "    return float(len(unique_words))/float(len(string.split()))\n",
    "\n",
    "def word_counter(content):\n",
    "    words = Counter()\n",
    "    for word in content.split():\n",
    "        words[word] += 1\n",
    "    return words\n",
    "\n",
    "def pos_tag_finder(content):\n",
    "    content_clean = str(content).decode('utf-8').encode('ascii','ignore').replace('\\n', '')\n",
    "    tokens = word_tokenize(content_clean)\n",
    "    tags = pos_tag(tokens)\n",
    "    counts = Counter(tag for word,tag in tags)\n",
    "    total = sum(counts.values())\n",
    "    return dict((word, float(count)/total) for word,count in counts.items())\n",
    "\n",
    "def find_sources(content):\n",
    "    short_content = content[-(len(content)/4):].lower()\n",
    "    replace_punctuation = string.maketrans(string.punctuation, ' '*len(string.punctuation))\n",
    "    content_clean = short_content.translate(replace_punctuation)\n",
    "    word_dict = word_counter(content_clean)\n",
    "    word_set = set([key for key in word_dict])\n",
    "    source_words = set(['source', 'sources', 'citation', 'citations', 'reference', 'references'])\n",
    "    return int(any(word in word_set for word in source_words))\n",
    "\n",
    "def stem(content, stemmer ='snowball' ):\n",
    "    content_clean = content.decode('utf-8', errors='ignore').encode('ascii',errors='ignore').replace('\\n', ' ')   \n",
    "    if stemmer=='snowball':\n",
    "        stemmed = [snowball.stem(word) for word in content_clean.split(' ')]\n",
    "    return ' '.join(stemmed)\n",
    "\n",
    "def find_credentials(content):\n",
    "    word_dict = word_counter(content)\n",
    "    word_set = set([key for key in word_dict])\n",
    "    source_words = set(['MD', 'PhD', 'MPH', \"RD\", \"M.D.\", \"R.D.\", \"M.P.H.\", 'Ph.D.', 'DPhil'])\n",
    "    return int(any(word in word_set for word in source_words))\n",
    "\n",
    "def word_length(content):\n",
    "    words = content.split()\n",
    "    return sum([len(word) for word in words])/float(len(words))\n",
    "\n",
    "def title_capitals(title):\n",
    "    title = str(title).strip()\n",
    "    return sum([1 for letter in title if letter.isupper()])/float(len(title))\n"
   ]
  },
  {
   "cell_type": "code",
   "execution_count": 149,
   "metadata": {
    "collapsed": true
   },
   "outputs": [],
   "source": [
    "# for app.py\n",
    "\n",
    "def clean():\n",
    "    user_data = request.json\n",
    "    input_title = str(user_data['title'])\n",
    "    input_text = str(user_data['article'])\n",
    "    input_article = pd.DataFrame(columns=['title', 'article'])\n",
    "    input_article = input_article.append({'title': input_title, 'article': input_article}, ignore_index=True)\n",
    "    input_article = helper_functions.add_columns()\n",
    "    return"
   ]
  },
  {
   "cell_type": "code",
   "execution_count": 258,
   "metadata": {
    "collapsed": false
   },
   "outputs": [],
   "source": [
    "def add_columns(df):\n",
    "    dataframe = df\n",
    "    dataframe['credentials'] = dataframe['article'].apply(find_credentials)\n",
    "    dataframe['unique_words'] = dataframe['article'].apply(unique_word_pct)\n",
    "    dataframe['content_length'] = dataframe['article'].apply(len)\n",
    "    dataframe['sources'] = dataframe['article'].apply(find_sources)\n",
    "    dataframe['avg_word_length'] = dataframe['article'].apply(word_length)\n",
    "    dataframe['uppercase_title'] = dataframe['title'].apply(title_capitals)\n",
    "    dataframe['exclamations_title'] = dataframe['title'].apply(find_exclamations)\n",
    "    dataframe['exclamations_content'] = dataframe['article'].apply(find_exclamations)\n",
    "    dataframe['stemmed_content'] = dataframe['article'].apply(stem)\n",
    "    pos_dict = pos_tag_finder(dataframe['article'][0])\n",
    "    for key, value in pos_dict.iteritems():\n",
    "        pos_content = dataframe.set_value(0, col=key, value=value)\n",
    "    pos_content = pos_content.fillna(0)\n",
    "    return pos_content\n",
    "#     \n",
    "#     pos_content = dataframe.update(pos_dict, index=[0])\n",
    "#     pos_content = pos_content.drop(['index_dataframe', 'index_PoS_df'], axis=1)\n",
    "\n",
    "#     return pos_content"
   ]
  },
  {
   "cell_type": "code",
   "execution_count": 152,
   "metadata": {
    "collapsed": false
   },
   "outputs": [],
   "source": [
    "test_title = \"Meal Planning for Pregnant Women With Diabetes\"\n",
    "test_text = \"\"\"Meal Planning for Pregnant Women With Diabetes Your meal plan for diabetes needs to be modified when you are pregnant. The total calories you need are based on your prepregnancy weight, age, activity level, and whether you are carrying more than one baby.\n",
    "\n",
    "Dieting to lose weight during pregnancy is not recommended, because you may not receive enough nourishment for you and your baby, and it may increase your risk for premature delivery.\n",
    "\n",
    "Follow these guidelines for your meal plan during pregnancy.\n",
    "\n",
    "Carbohydrate\n",
    "\n",
    "Inadequate carbohydrate intake can result in low blood sugar (hypoglycemia) for women taking insulin and in ketone production for women who have gestational diabetes. Excessive carbohydrate intake can result in elevated blood sugar levels.\n",
    "\n",
    "Make sure your meal plan contains:\n",
    "\n",
    "Complex carbohydrate, especially foods high in fiber, such as oatmeal, brown rice, bran cereal, whole wheat bread, whole wheat pasta, and beans.\n",
    "Fresh fruits.\n",
    "Milk.\n",
    "Fresh or frozen vegetables.\n",
    "Limit these carbohydrate foods in your diet:\n",
    "\n",
    "Refined sugar and foods with a high content of refined sugars (sweets)\n",
    "Refined starches, such as highly processed breakfast cereals, instant potatoes, instant rice, or instant noodles\n",
    "Fruit juice\n",
    "Protein\n",
    "\n",
    "If your kidney function is impaired, your protein allowance may be lowered.\n",
    "\n",
    "Fat\n",
    "\n",
    "Monounsaturated fats and omega-3 fats, rather than saturated fats, should continue to be the primary source of fat in your diet.\n",
    "\n",
    "Fiber\n",
    "\n",
    "Get enough fiber each day. Fiber can help stabilize your blood sugar levels and relieve constipation, which is common during pregnancy.\n",
    "\n",
    "CONTINUE READING BELOW\n",
    "related content WebMD SUGGESTS\n",
    "SLIDESHOW\n",
    "\n",
    "Best and Worst Meals for Diabetes-Savvy Dining\n",
    "Start\n",
    "Most people get far more sodium than they need. Talk to your doctor about how much sodium you should eat.\n",
    "\n",
    "Vitamins and minerals\n",
    "\n",
    "Take a prenatal vitamin with folic acid and iron to meet your body's increased need for these micronutrients. Folic acid is needed for the production of blood cells. And iron is needed for red blood cells to deliver oxygen throughout the body. Folic acid has also been proved to reduce the risk of fetal neural tube defects.\n",
    "\n",
    "You may need to take a vitamin B12 supplement, which is important for the production of red blood cells, and a vitamin D supplement if you are a strict vegetarian (vegan). Vitamin B12 can only be obtained from animal sources in the diet.\n",
    "\n",
    "Other vitamins and minerals, such as the B vitamins and calcium, are important during pregnancy for producing energy and preserving your body's calcium stores.\n",
    "\n",
    "Very large doses (megadoses) of vitamins, especially vitamins A and D, are not recommended during pregnancy. Vitamins and minerals should only be taken under your doctor's supervision.\n",
    "\n",
    "Artificial sweeteners\n",
    "\n",
    "Saccharin (Sweet'N Low, Sugar Twin), aspartame (Equal, NutraSweet), acesulfame K (Sunett), sucralose (Splenda), and neotame are safe to eat when you are pregnant.\n",
    "\n",
    "Avoid using aspartame (Equal or Nutrasweet) if you have phenylketonuria (PKU).\n",
    "\n",
    "Caffeine\n",
    "\n",
    "Avoid caffeine.\n",
    "\n",
    "Alcohol\n",
    "\n",
    "Do not drink alcohol. No amount of alcohol has been proved to be safe for a developing baby (fetus).\n",
    "\n",
    "Herbs\n",
    "\n",
    "Some herbs may cause premature labor and others may cause high or low blood sugar levels. Talk with your doctor if you are taking any herbs.\n",
    "\n",
    "Credits\n",
    "\n",
    "ByHealthwise Staff\n",
    "Primary Medical ReviewerAdam Husney, MD - Family Medicine\n",
    "\n",
    "Current as ofNovember 20, 2015\"\"\""
   ]
  },
  {
   "cell_type": "code",
   "execution_count": 259,
   "metadata": {
    "collapsed": true
   },
   "outputs": [],
   "source": [
    "test_article = pd.DataFrame(columns=['title', 'article', 'PRP$', 'VBG', 'VBD', 'VBN', 'VBP', 'WDT', 'JJ', 'WP', 'VBZ', 'DT',\n",
    "            '#', 'RP', '$', 'NN', ')', '(', ',', '.', 'TO', 'PRP', 'RB', ':',\n",
    "            'NNS', 'NNP', 'VB', 'WRB', 'CC', 'PDT', 'RBS', 'RBR', 'CD', 'EX',\n",
    "            'IN', 'WP$', 'MD', 'NNPS', 'JJS', 'JJR', 'UH', 'FW', 'LS', 'POS', 'SYM', '``', \"''\"])\n",
    "test_article = input_article.append({'title': test_title, 'article': test_text}, ignore_index=True)"
   ]
  },
  {
   "cell_type": "code",
   "execution_count": 257,
   "metadata": {
    "collapsed": false
   },
   "outputs": [
    {
     "data": {
      "text/plain": [
       "Index([u'title', u'article', u'PRP$', u'VBG', u'VBD', u'VBN', u'VBP', u'WDT',\n",
       "       u'JJ', u'WP', u'VBZ', u'DT', u'#', u'RP', u'$', u'NN', u')', u'(', u',',\n",
       "       u'.', u'TO', u'PRP', u'RB', u':', u'NNS', u'NNP', u'VB', u'WRB', u'CC',\n",
       "       u'PDT', u'RBS', u'RBR', u'CD', u'EX', u'IN', u'WP$', u'MD', u'NNPS',\n",
       "       u'JJS', u'JJR', u'UH', u'FW', u'LS', u'POS', u'SYM', u'``', u'''',\n",
       "       u'credentials', u'unique_words', u'content_length', u'sources',\n",
       "       u'avg_word_length', u'uppercase_title', u'exclamations_title',\n",
       "       u'exclamations_content', u'stemmed_content'],\n",
       "      dtype='object')"
      ]
     },
     "execution_count": 257,
     "metadata": {},
     "output_type": "execute_result"
    }
   ],
   "source": [
    "test_article.columns"
   ]
  },
  {
   "cell_type": "code",
   "execution_count": 260,
   "metadata": {
    "collapsed": false
   },
   "outputs": [],
   "source": [
    "test_df = add_columns(test_article)"
   ]
  },
  {
   "cell_type": "code",
   "execution_count": 261,
   "metadata": {
    "collapsed": false
   },
   "outputs": [
    {
     "data": {
      "text/plain": [
       "Index([u'title', u'article', u'PRP$', u'VBG', u'VBD', u'VBN', u'VBP', u'WDT',\n",
       "       u'JJ', u'WP', u'VBZ', u'DT', u'#', u'RP', u'$', u'NN', u')', u'(', u',',\n",
       "       u'.', u'TO', u'PRP', u'RB', u':', u'NNS', u'NNP', u'VB', u'WRB', u'CC',\n",
       "       u'PDT', u'RBS', u'RBR', u'CD', u'EX', u'IN', u'WP$', u'MD', u'NNPS',\n",
       "       u'JJS', u'JJR', u'UH', u'FW', u'LS', u'POS', u'SYM', u'``', u'''',\n",
       "       u'credentials', u'unique_words', u'content_length', u'sources',\n",
       "       u'avg_word_length', u'uppercase_title', u'exclamations_title',\n",
       "       u'exclamations_content', u'stemmed_content'],\n",
       "      dtype='object')"
      ]
     },
     "execution_count": 261,
     "metadata": {},
     "output_type": "execute_result"
    }
   ],
   "source": [
    "test_df.columns"
   ]
  },
  {
   "cell_type": "code",
   "execution_count": 262,
   "metadata": {
    "collapsed": false
   },
   "outputs": [],
   "source": [
    "gbc_test = test_df.drop(['title','article','stemmed_content'], axis=1)"
   ]
  },
  {
   "cell_type": "code",
   "execution_count": null,
   "metadata": {
    "collapsed": true
   },
   "outputs": [],
   "source": []
  },
  {
   "cell_type": "code",
   "execution_count": null,
   "metadata": {
    "collapsed": true
   },
   "outputs": [],
   "source": []
  },
  {
   "cell_type": "code",
   "execution_count": 263,
   "metadata": {
    "collapsed": false
   },
   "outputs": [
    {
     "data": {
      "text/plain": [
       "53"
      ]
     },
     "execution_count": 263,
     "metadata": {},
     "output_type": "execute_result"
    }
   ],
   "source": [
    "len(gbc_test.columns)"
   ]
  },
  {
   "cell_type": "code",
   "execution_count": 270,
   "metadata": {
    "collapsed": false
   },
   "outputs": [
    {
     "name": "stderr",
     "output_type": "stream",
     "text": [
      "//anaconda/lib/python2.7/site-packages/sklearn/utils/validation.py:395: DeprecationWarning: Passing 1d arrays as data is deprecated in 0.17 and will raise ValueError in 0.19. Reshape your data either using X.reshape(-1, 1) if your data has a single feature or X.reshape(1, -1) if it contains a single sample.\n",
      "  DeprecationWarning)\n"
     ]
    },
    {
     "data": {
      "text/plain": [
       "0.46423823461769459"
      ]
     },
     "execution_count": 270,
     "metadata": {},
     "output_type": "execute_result"
    }
   ],
   "source": [
    "proba = GBC.predict_proba(gbc_test.iloc[0,:])\n",
    "proba[0][1]"
   ]
  },
  {
   "cell_type": "code",
   "execution_count": 236,
   "metadata": {
    "collapsed": false,
    "scrolled": true
   },
   "outputs": [
    {
     "data": {
      "text/plain": [
       "Index([u'PRP$', u'VBG', u'VBD', u'VBN', u'VBP', u'WDT', u'JJ', u'WP', u'VBZ',\n",
       "       u'DT', u'#', u'RP', u'$', u'NN', u')', u'(', u',', u'.', u'TO', u'PRP',\n",
       "       u'RB', u':', u'NNS', u'NNP', u'VB', u'WRB', u'CC', u'PDT', u'RBS',\n",
       "       u'RBR', u'CD', u'EX', u'IN', u'WP$', u'MD', u'NNPS', u'JJS', u'JJR',\n",
       "       u'UH', u'FW', u'LS', u'POS', u'credentials', u'unique_words',\n",
       "       u'content_length', u'sources', u'avg_word_length', u'uppercase_title',\n",
       "       u'exclamations_title', u'exclamations_content'],\n",
       "      dtype='object')"
      ]
     },
     "execution_count": 236,
     "metadata": {},
     "output_type": "execute_result"
    }
   ],
   "source": [
    "gbc_test.columns"
   ]
  },
  {
   "cell_type": "code",
   "execution_count": 241,
   "metadata": {
    "collapsed": false
   },
   "outputs": [
    {
     "name": "stdout",
     "output_type": "stream",
     "text": [
      "''\n",
      "SYM\n",
      "``\n"
     ]
    }
   ],
   "source": [
    "for i in X_train.columns: \n",
    "    if i not in gbc_test.columns:\n",
    "        print i"
   ]
  },
  {
   "cell_type": "code",
   "execution_count": 242,
   "metadata": {
    "collapsed": false
   },
   "outputs": [
    {
     "data": {
      "text/plain": [
       "Index([u'credentials', u'unique_words', u'content_length', u'sources',\n",
       "       u'avg_word_length', u'uppercase_title', u'exclamations_title',\n",
       "       u'exclamations_content', u'#', u'$', u'''', u'(', u')', u',', u'.',\n",
       "       u':', u'CC', u'CD', u'DT', u'EX', u'FW', u'IN', u'JJ', u'JJR', u'JJS',\n",
       "       u'LS', u'MD', u'NN', u'NNP', u'NNPS', u'NNS', u'PDT', u'POS', u'PRP',\n",
       "       u'PRP$', u'RB', u'RBR', u'RBS', u'RP', u'SYM', u'TO', u'UH', u'VB',\n",
       "       u'VBD', u'VBG', u'VBN', u'VBP', u'VBZ', u'WDT', u'WP', u'WP$', u'WRB',\n",
       "       u'``'],\n",
       "      dtype='object')"
      ]
     },
     "execution_count": 242,
     "metadata": {},
     "output_type": "execute_result"
    }
   ],
   "source": [
    "X_train.columns"
   ]
  },
  {
   "cell_type": "code",
   "execution_count": 243,
   "metadata": {
    "collapsed": false
   },
   "outputs": [],
   "source": [
    "POS_list = ['PRP$', 'VBG', 'VBD', 'VBN', 'VBP', 'WDT', 'JJ', 'WP', 'VBZ', 'DT',\n",
    "            '#', 'RP', '$', 'NN', ')', '(', ',', '.', 'TO', 'PRP', 'RB', ':',\n",
    "            'NNS', 'NNP', 'VB', 'WRB', 'CC', 'PDT', 'RBS', 'RBR', 'CD', 'EX',\n",
    "            'IN', 'WP$', 'MD', 'NNPS', 'JJS', 'JJR', 'UH', 'FW', 'LS', 'POS', 'SYM', '``', \"''\"]"
   ]
  },
  {
   "cell_type": "code",
   "execution_count": 19,
   "metadata": {
    "collapsed": true
   },
   "outputs": [],
   "source": [
    "PoS_tag_list = []\n",
    "for row in all_content['content']:\n",
    "    PoS_tag_list.append(pos_tag_finder(row))\n"
   ]
  },
  {
   "cell_type": "code",
   "execution_count": 20,
   "metadata": {
    "collapsed": false
   },
   "outputs": [
    {
     "data": {
      "text/plain": [
       "RangeIndex(start=0, stop=2916, step=1)"
      ]
     },
     "execution_count": 20,
     "metadata": {},
     "output_type": "execute_result"
    }
   ],
   "source": [
    "PoS_df = pd.DataFrame(PoS_tag_list)\n",
    "PoS_df = PoS_df.reset_index()\n",
    "PoS_df.index"
   ]
  },
  {
   "cell_type": "code",
   "execution_count": 22,
   "metadata": {
    "collapsed": false
   },
   "outputs": [],
   "source": []
  },
  {
   "cell_type": "code",
   "execution_count": 23,
   "metadata": {
    "collapsed": true
   },
   "outputs": [],
   "source": []
  },
  {
   "cell_type": "code",
   "execution_count": 24,
   "metadata": {
    "collapsed": true
   },
   "outputs": [],
   "source": []
  },
  {
   "cell_type": "code",
   "execution_count": null,
   "metadata": {
    "collapsed": true
   },
   "outputs": [],
   "source": [
    "def naive_predict_proba(content):\n",
    "    "
   ]
  },
  {
   "cell_type": "code",
   "execution_count": 27,
   "metadata": {
    "collapsed": false
   },
   "outputs": [],
   "source": [
    "all_content['credentials'] = all_content['content'].apply(find_credentials)\n",
    "\n",
    "all_content['unique_words'] = all_content['content'].apply(unique_word_pct)\n",
    "\n",
    "all_content['content_length'] = all_content['content'].apply(len)\n",
    "\n",
    "all_content['sources'] = all_content['content'].apply(find_sources)\n",
    "\n",
    "all_content['avg_word_length'] = all_content['content'].apply(word_length)\n",
    "\n",
    "all_content['uppercase_title'] = all_content['title'].apply(title_capitals)\n",
    "\n",
    "all_content['exclamations_title'] = all_content['title'].apply(find_exclamations)\n",
    "\n",
    "all_content['exclamations_content'] = all_content['content'].apply(find_exclamations)\n",
    "\n",
    "all_content['stemmed_content'] = all_content['content'].apply(stem)"
   ]
  },
  {
   "cell_type": "code",
   "execution_count": 28,
   "metadata": {
    "collapsed": false
   },
   "outputs": [],
   "source": [
    "all_content = all_content.reset_index()"
   ]
  },
  {
   "cell_type": "code",
   "execution_count": 29,
   "metadata": {
    "collapsed": false
   },
   "outputs": [
    {
     "data": {
      "text/plain": [
       "RangeIndex(start=0, stop=2916, step=1)"
      ]
     },
     "execution_count": 29,
     "metadata": {},
     "output_type": "execute_result"
    }
   ],
   "source": [
    "all_content.index"
   ]
  },
  {
   "cell_type": "code",
   "execution_count": 30,
   "metadata": {
    "collapsed": false
   },
   "outputs": [],
   "source": [
    "pos_content = all_content.join(PoS_df, lsuffix='_all_content', rsuffix='_PoS_df')"
   ]
  },
  {
   "cell_type": "code",
   "execution_count": 31,
   "metadata": {
    "collapsed": false
   },
   "outputs": [
    {
     "data": {
      "text/plain": [
       "Index([u'index_all_content', u'title', u'link', u'content', u'label',\n",
       "       u'credentials', u'unique_words', u'content_length', u'sources',\n",
       "       u'avg_word_length', u'uppercase_title', u'exclamations_title',\n",
       "       u'exclamations_content', u'stemmed_content', u'index_PoS_df', u'#',\n",
       "       u'$', u'''', u'(', u')', u',', u'.', u':', u'CC', u'CD', u'DT', u'EX',\n",
       "       u'FW', u'IN', u'JJ', u'JJR', u'JJS', u'LS', u'MD', u'NN', u'NNP',\n",
       "       u'NNPS', u'NNS', u'PDT', u'POS', u'PRP', u'PRP$', u'RB', u'RBR', u'RBS',\n",
       "       u'RP', u'SYM', u'TO', u'UH', u'VB', u'VBD', u'VBG', u'VBN', u'VBP',\n",
       "       u'VBZ', u'WDT', u'WP', u'WP$', u'WRB', u'``'],\n",
       "      dtype='object')"
      ]
     },
     "execution_count": 31,
     "metadata": {},
     "output_type": "execute_result"
    }
   ],
   "source": [
    "pos_content.columns"
   ]
  },
  {
   "cell_type": "code",
   "execution_count": 32,
   "metadata": {
    "collapsed": false
   },
   "outputs": [],
   "source": [
    "pos_content = pos_content.drop('index_all_content', axis=1)"
   ]
  },
  {
   "cell_type": "code",
   "execution_count": 34,
   "metadata": {
    "collapsed": false
   },
   "outputs": [],
   "source": [
    "pos_content = pos_content.drop('index_PoS_df', axis=1)"
   ]
  },
  {
   "cell_type": "code",
   "execution_count": 35,
   "metadata": {
    "collapsed": false
   },
   "outputs": [],
   "source": [
    "pos_content = pos_content.fillna(0)"
   ]
  },
  {
   "cell_type": "code",
   "execution_count": 36,
   "metadata": {
    "collapsed": false
   },
   "outputs": [
    {
     "data": {
      "text/html": [
       "<div>\n",
       "<table border=\"1\" class=\"dataframe\">\n",
       "  <thead>\n",
       "    <tr style=\"text-align: right;\">\n",
       "      <th></th>\n",
       "      <th>title</th>\n",
       "      <th>link</th>\n",
       "      <th>content</th>\n",
       "      <th>label</th>\n",
       "      <th>credentials</th>\n",
       "      <th>unique_words</th>\n",
       "      <th>content_length</th>\n",
       "      <th>sources</th>\n",
       "      <th>avg_word_length</th>\n",
       "      <th>uppercase_title</th>\n",
       "      <th>...</th>\n",
       "      <th>VBD</th>\n",
       "      <th>VBG</th>\n",
       "      <th>VBN</th>\n",
       "      <th>VBP</th>\n",
       "      <th>VBZ</th>\n",
       "      <th>WDT</th>\n",
       "      <th>WP</th>\n",
       "      <th>WP$</th>\n",
       "      <th>WRB</th>\n",
       "      <th>``</th>\n",
       "    </tr>\n",
       "  </thead>\n",
       "  <tbody>\n",
       "    <tr>\n",
       "      <th>0</th>\n",
       "      <td>\\nINSANITY Results: Danielle Burned Off Belly ...</td>\n",
       "      <td>https://www.teambeachbody.com/teambeachbodyblo...</td>\n",
       "      <td>Danielle Marino, age 43, lost 39 lbs. in 6 mon...</td>\n",
       "      <td>0</td>\n",
       "      <td>0</td>\n",
       "      <td>0.502135</td>\n",
       "      <td>6594</td>\n",
       "      <td>0</td>\n",
       "      <td>4.631939</td>\n",
       "      <td>0.250000</td>\n",
       "      <td>...</td>\n",
       "      <td>0.045588</td>\n",
       "      <td>0.028676</td>\n",
       "      <td>0.016176</td>\n",
       "      <td>0.027206</td>\n",
       "      <td>0.012500</td>\n",
       "      <td>0.000735</td>\n",
       "      <td>0.004412</td>\n",
       "      <td>0.000000</td>\n",
       "      <td>0.013235</td>\n",
       "      <td>0.0</td>\n",
       "    </tr>\n",
       "    <tr>\n",
       "      <th>1</th>\n",
       "      <td>\\nDoes Breastfeeding Really Help You Lose Weig...</td>\n",
       "      <td>https://www.teambeachbody.com/teambeachbodyblo...</td>\n",
       "      <td>There are a lot of assumptions made about brea...</td>\n",
       "      <td>0</td>\n",
       "      <td>0</td>\n",
       "      <td>0.425944</td>\n",
       "      <td>12684</td>\n",
       "      <td>0</td>\n",
       "      <td>5.136012</td>\n",
       "      <td>0.138889</td>\n",
       "      <td>...</td>\n",
       "      <td>0.013437</td>\n",
       "      <td>0.019072</td>\n",
       "      <td>0.015605</td>\n",
       "      <td>0.031209</td>\n",
       "      <td>0.035111</td>\n",
       "      <td>0.008236</td>\n",
       "      <td>0.007369</td>\n",
       "      <td>0.000433</td>\n",
       "      <td>0.006068</td>\n",
       "      <td>0.0</td>\n",
       "    </tr>\n",
       "    <tr>\n",
       "      <th>2</th>\n",
       "      <td>\\nBeachbody Results: Janine Lost 62.4 Pounds a...</td>\n",
       "      <td>https://www.teambeachbody.com/teambeachbodyblo...</td>\n",
       "      <td>Janine Figueroa, age 30, lost 62.4 lbs with 21...</td>\n",
       "      <td>0</td>\n",
       "      <td>0</td>\n",
       "      <td>0.472928</td>\n",
       "      <td>5057</td>\n",
       "      <td>0</td>\n",
       "      <td>4.588950</td>\n",
       "      <td>0.103448</td>\n",
       "      <td>...</td>\n",
       "      <td>0.048756</td>\n",
       "      <td>0.021891</td>\n",
       "      <td>0.017910</td>\n",
       "      <td>0.038806</td>\n",
       "      <td>0.015920</td>\n",
       "      <td>0.000000</td>\n",
       "      <td>0.002985</td>\n",
       "      <td>0.000000</td>\n",
       "      <td>0.011940</td>\n",
       "      <td>0.0</td>\n",
       "    </tr>\n",
       "    <tr>\n",
       "      <th>3</th>\n",
       "      <td>\\n21 Day Fix Results: Busy Mom Lost 124 Pounds...</td>\n",
       "      <td>https://www.teambeachbody.com/teambeachbodyblo...</td>\n",
       "      <td>Rachelle Hosick, age 29, lost 124 lbs with 21 ...</td>\n",
       "      <td>0</td>\n",
       "      <td>0</td>\n",
       "      <td>0.439044</td>\n",
       "      <td>6502</td>\n",
       "      <td>0</td>\n",
       "      <td>4.356672</td>\n",
       "      <td>0.140351</td>\n",
       "      <td>...</td>\n",
       "      <td>0.045455</td>\n",
       "      <td>0.026393</td>\n",
       "      <td>0.011730</td>\n",
       "      <td>0.042522</td>\n",
       "      <td>0.018328</td>\n",
       "      <td>0.001466</td>\n",
       "      <td>0.006598</td>\n",
       "      <td>0.000000</td>\n",
       "      <td>0.009531</td>\n",
       "      <td>0.0</td>\n",
       "    </tr>\n",
       "    <tr>\n",
       "      <th>4</th>\n",
       "      <td>\\nBeachbody Results: Amanda Lost 71.6 Pounds a...</td>\n",
       "      <td>https://www.teambeachbody.com/teambeachbodyblo...</td>\n",
       "      <td>Amanda Reece, age 35, lost 71.6 lbs. with a va...</td>\n",
       "      <td>0</td>\n",
       "      <td>0</td>\n",
       "      <td>0.441981</td>\n",
       "      <td>7394</td>\n",
       "      <td>0</td>\n",
       "      <td>4.465632</td>\n",
       "      <td>0.103448</td>\n",
       "      <td>...</td>\n",
       "      <td>0.066970</td>\n",
       "      <td>0.025358</td>\n",
       "      <td>0.016255</td>\n",
       "      <td>0.026008</td>\n",
       "      <td>0.011053</td>\n",
       "      <td>0.002601</td>\n",
       "      <td>0.005852</td>\n",
       "      <td>0.000000</td>\n",
       "      <td>0.007152</td>\n",
       "      <td>0.0</td>\n",
       "    </tr>\n",
       "  </tbody>\n",
       "</table>\n",
       "<p>5 rows × 58 columns</p>\n",
       "</div>"
      ],
      "text/plain": [
       "                                               title  \\\n",
       "0  \\nINSANITY Results: Danielle Burned Off Belly ...   \n",
       "1  \\nDoes Breastfeeding Really Help You Lose Weig...   \n",
       "2  \\nBeachbody Results: Janine Lost 62.4 Pounds a...   \n",
       "3  \\n21 Day Fix Results: Busy Mom Lost 124 Pounds...   \n",
       "4  \\nBeachbody Results: Amanda Lost 71.6 Pounds a...   \n",
       "\n",
       "                                                link  \\\n",
       "0  https://www.teambeachbody.com/teambeachbodyblo...   \n",
       "1  https://www.teambeachbody.com/teambeachbodyblo...   \n",
       "2  https://www.teambeachbody.com/teambeachbodyblo...   \n",
       "3  https://www.teambeachbody.com/teambeachbodyblo...   \n",
       "4  https://www.teambeachbody.com/teambeachbodyblo...   \n",
       "\n",
       "                                             content  label  credentials  \\\n",
       "0  Danielle Marino, age 43, lost 39 lbs. in 6 mon...      0            0   \n",
       "1  There are a lot of assumptions made about brea...      0            0   \n",
       "2  Janine Figueroa, age 30, lost 62.4 lbs with 21...      0            0   \n",
       "3  Rachelle Hosick, age 29, lost 124 lbs with 21 ...      0            0   \n",
       "4  Amanda Reece, age 35, lost 71.6 lbs. with a va...      0            0   \n",
       "\n",
       "   unique_words  content_length  sources  avg_word_length  uppercase_title  \\\n",
       "0      0.502135            6594        0         4.631939         0.250000   \n",
       "1      0.425944           12684        0         5.136012         0.138889   \n",
       "2      0.472928            5057        0         4.588950         0.103448   \n",
       "3      0.439044            6502        0         4.356672         0.140351   \n",
       "4      0.441981            7394        0         4.465632         0.103448   \n",
       "\n",
       "  ...        VBD       VBG       VBN       VBP       VBZ       WDT        WP  \\\n",
       "0 ...   0.045588  0.028676  0.016176  0.027206  0.012500  0.000735  0.004412   \n",
       "1 ...   0.013437  0.019072  0.015605  0.031209  0.035111  0.008236  0.007369   \n",
       "2 ...   0.048756  0.021891  0.017910  0.038806  0.015920  0.000000  0.002985   \n",
       "3 ...   0.045455  0.026393  0.011730  0.042522  0.018328  0.001466  0.006598   \n",
       "4 ...   0.066970  0.025358  0.016255  0.026008  0.011053  0.002601  0.005852   \n",
       "\n",
       "        WP$       WRB   ``  \n",
       "0  0.000000  0.013235  0.0  \n",
       "1  0.000433  0.006068  0.0  \n",
       "2  0.000000  0.011940  0.0  \n",
       "3  0.000000  0.009531  0.0  \n",
       "4  0.000000  0.007152  0.0  \n",
       "\n",
       "[5 rows x 58 columns]"
      ]
     },
     "execution_count": 36,
     "metadata": {},
     "output_type": "execute_result"
    }
   ],
   "source": [
    "pos_content.head()"
   ]
  },
  {
   "cell_type": "code",
   "execution_count": null,
   "metadata": {
    "collapsed": true
   },
   "outputs": [],
   "source": []
  },
  {
   "cell_type": "markdown",
   "metadata": {
    "collapsed": true
   },
   "source": [
    "## functions to add columns to the test text inputed by user"
   ]
  },
  {
   "cell_type": "code",
   "execution_count": null,
   "metadata": {
    "collapsed": true
   },
   "outputs": [],
   "source": [
    "def add_columns():\n",
    "    "
   ]
  },
  {
   "cell_type": "code",
   "execution_count": null,
   "metadata": {
    "collapsed": true
   },
   "outputs": [],
   "source": []
  },
  {
   "cell_type": "code",
   "execution_count": null,
   "metadata": {
    "collapsed": true
   },
   "outputs": [],
   "source": []
  },
  {
   "cell_type": "code",
   "execution_count": null,
   "metadata": {
    "collapsed": true
   },
   "outputs": [],
   "source": []
  },
  {
   "cell_type": "code",
   "execution_count": null,
   "metadata": {
    "collapsed": true
   },
   "outputs": [],
   "source": []
  },
  {
   "cell_type": "code",
   "execution_count": null,
   "metadata": {
    "collapsed": true
   },
   "outputs": [],
   "source": []
  },
  {
   "cell_type": "code",
   "execution_count": null,
   "metadata": {
    "collapsed": true
   },
   "outputs": [],
   "source": []
  },
  {
   "cell_type": "code",
   "execution_count": null,
   "metadata": {
    "collapsed": false
   },
   "outputs": [],
   "source": []
  },
  {
   "cell_type": "code",
   "execution_count": 37,
   "metadata": {
    "collapsed": false
   },
   "outputs": [],
   "source": [
    "labels = pos_content.pop('label')"
   ]
  },
  {
   "cell_type": "code",
   "execution_count": 38,
   "metadata": {
    "collapsed": true
   },
   "outputs": [],
   "source": [
    "\n",
    "stop = set(stopwords.words('english'))\n",
    "html_stopwords = [\"span\", 'vm', 'hook', 'class', 'strong', 'href', 'style', 'rgb', \n",
    "                  'transpar', '153', 'br', 'strong', 'span', 'com', 'vm', 'img', 'http', 'zzzzzzzzzzzz']\n",
    "stop.update(html_stopwords)"
   ]
  },
  {
   "cell_type": "code",
   "execution_count": 39,
   "metadata": {
    "collapsed": true
   },
   "outputs": [],
   "source": [
    "X_train, X_test, y_train, y_test = train_test_split(pos_content, labels, test_size=0.33, random_state=99)"
   ]
  },
  {
   "cell_type": "code",
   "execution_count": 40,
   "metadata": {
    "collapsed": false
   },
   "outputs": [
    {
     "data": {
      "text/plain": [
       "Index([u'title', u'link', u'content', u'credentials', u'unique_words',\n",
       "       u'content_length', u'sources', u'avg_word_length', u'uppercase_title',\n",
       "       u'exclamations_title', u'exclamations_content', u'stemmed_content',\n",
       "       u'#', u'$', u'''', u'(', u')', u',', u'.', u':', u'CC', u'CD', u'DT',\n",
       "       u'EX', u'FW', u'IN', u'JJ', u'JJR', u'JJS', u'LS', u'MD', u'NN', u'NNP',\n",
       "       u'NNPS', u'NNS', u'PDT', u'POS', u'PRP', u'PRP$', u'RB', u'RBR', u'RBS',\n",
       "       u'RP', u'SYM', u'TO', u'UH', u'VB', u'VBD', u'VBG', u'VBN', u'VBP',\n",
       "       u'VBZ', u'WDT', u'WP', u'WP$', u'WRB', u'``'],\n",
       "      dtype='object')"
      ]
     },
     "execution_count": 40,
     "metadata": {},
     "output_type": "execute_result"
    }
   ],
   "source": [
    "X_train.columns"
   ]
  },
  {
   "cell_type": "code",
   "execution_count": 41,
   "metadata": {
    "collapsed": false
   },
   "outputs": [],
   "source": [
    "vector = TfidfVectorizer(stop_words=stop)"
   ]
  },
  {
   "cell_type": "code",
   "execution_count": 42,
   "metadata": {
    "collapsed": false
   },
   "outputs": [],
   "source": [
    "train_matrix = vector.fit_transform(X_train['stemmed_content'])"
   ]
  },
  {
   "cell_type": "code",
   "execution_count": 43,
   "metadata": {
    "collapsed": true
   },
   "outputs": [],
   "source": [
    "bayes_model = MultinomialNB()"
   ]
  },
  {
   "cell_type": "code",
   "execution_count": 44,
   "metadata": {
    "collapsed": false
   },
   "outputs": [
    {
     "data": {
      "text/plain": [
       "MultinomialNB(alpha=1.0, class_prior=None, fit_prior=True)"
      ]
     },
     "execution_count": 44,
     "metadata": {},
     "output_type": "execute_result"
    }
   ],
   "source": [
    "bayes_model.fit(train_matrix, y_train)"
   ]
  },
  {
   "cell_type": "code",
   "execution_count": 45,
   "metadata": {
    "collapsed": true
   },
   "outputs": [],
   "source": [
    "test_matrix = vector.transform(X_test['stemmed_content'])"
   ]
  },
  {
   "cell_type": "code",
   "execution_count": 49,
   "metadata": {
    "collapsed": false
   },
   "outputs": [
    {
     "data": {
      "text/plain": [
       "0.79646936656282452"
      ]
     },
     "execution_count": 49,
     "metadata": {},
     "output_type": "execute_result"
    }
   ],
   "source": [
    "bayes_model.score(test_matrix, y_test)"
   ]
  },
  {
   "cell_type": "code",
   "execution_count": 50,
   "metadata": {
    "collapsed": true
   },
   "outputs": [],
   "source": [
    "y_pred = bayes_model.predict(test_matrix)"
   ]
  },
  {
   "cell_type": "code",
   "execution_count": 51,
   "metadata": {
    "collapsed": false
   },
   "outputs": [
    {
     "data": {
      "text/plain": [
       "array([[ 20,   1],\n",
       "       [195, 747]])"
      ]
     },
     "execution_count": 51,
     "metadata": {},
     "output_type": "execute_result"
    }
   ],
   "source": [
    "confusion_matrix(y_pred, y_test)"
   ]
  },
  {
   "cell_type": "code",
   "execution_count": 52,
   "metadata": {
    "collapsed": false
   },
   "outputs": [
    {
     "name": "stdout",
     "output_type": "stream",
     "text": [
      "true_neg = 20, true_pos = 747, false_pos = 195, false_neg = 1\n"
     ]
    }
   ],
   "source": [
    "true_neg = 0\n",
    "true_pos = 0\n",
    "false_pos = 0\n",
    "false_neg = 0\n",
    "for i,j in zip(y_pred, y_test):\n",
    "    if j== 0:\n",
    "        if i == j:\n",
    "            true_neg+=1\n",
    "        else: false_pos +=1\n",
    "    if j ==1:\n",
    "        if i == j:\n",
    "            true_pos +=1\n",
    "        else: false_neg +=1\n",
    "print 'true_neg = {}, true_pos = {}, false_pos = {}, false_neg = {}'.format(true_neg, true_pos, false_pos, false_neg)"
   ]
  },
  {
   "cell_type": "code",
   "execution_count": 74,
   "metadata": {
    "collapsed": true
   },
   "outputs": [],
   "source": [
    "y_train_predictproba_nb = bayes_model.predict_proba(train_matrix)"
   ]
  },
  {
   "cell_type": "code",
   "execution_count": 75,
   "metadata": {
    "collapsed": true
   },
   "outputs": [],
   "source": [
    "y_test_predictlogprobab_nb = bayes_model.predict_proba(test_matrix)"
   ]
  },
  {
   "cell_type": "code",
   "execution_count": 56,
   "metadata": {
    "collapsed": false
   },
   "outputs": [
    {
     "name": "stderr",
     "output_type": "stream",
     "text": [
      "/anaconda/lib/python2.7/site-packages/ipykernel/__main__.py:1: SettingWithCopyWarning: \n",
      "A value is trying to be set on a copy of a slice from a DataFrame.\n",
      "Try using .loc[row_indexer,col_indexer] = value instead\n",
      "\n",
      "See the caveats in the documentation: http://pandas.pydata.org/pandas-docs/stable/indexing.html#indexing-view-versus-copy\n",
      "  if __name__ == '__main__':\n"
     ]
    }
   ],
   "source": [
    "X_test['predict_proba'] = X_test_predictlogprobab[:,1]"
   ]
  },
  {
   "cell_type": "code",
   "execution_count": 57,
   "metadata": {
    "collapsed": false
   },
   "outputs": [
    {
     "data": {
      "text/html": [
       "<div>\n",
       "<table border=\"1\" class=\"dataframe\">\n",
       "  <thead>\n",
       "    <tr style=\"text-align: right;\">\n",
       "      <th></th>\n",
       "      <th>title</th>\n",
       "      <th>link</th>\n",
       "      <th>content</th>\n",
       "      <th>credentials</th>\n",
       "      <th>unique_words</th>\n",
       "      <th>content_length</th>\n",
       "      <th>sources</th>\n",
       "      <th>avg_word_length</th>\n",
       "      <th>uppercase_title</th>\n",
       "      <th>exclamations_title</th>\n",
       "      <th>...</th>\n",
       "      <th>VBG</th>\n",
       "      <th>VBN</th>\n",
       "      <th>VBP</th>\n",
       "      <th>VBZ</th>\n",
       "      <th>WDT</th>\n",
       "      <th>WP</th>\n",
       "      <th>WP$</th>\n",
       "      <th>WRB</th>\n",
       "      <th>``</th>\n",
       "      <th>predict_proba</th>\n",
       "    </tr>\n",
       "  </thead>\n",
       "  <tbody>\n",
       "    <tr>\n",
       "      <th>576</th>\n",
       "      <td>Letters, Fall 2016</td>\n",
       "      <td>https://www.westonaprice.org/get-involved/lett...</td>\n",
       "      <td>ON THE WISE TRADITIONS JOURNEY IN KENYA I know...</td>\n",
       "      <td>1</td>\n",
       "      <td>0.468455</td>\n",
       "      <td>15994</td>\n",
       "      <td>0</td>\n",
       "      <td>4.799492</td>\n",
       "      <td>0.111111</td>\n",
       "      <td>0.000000</td>\n",
       "      <td>...</td>\n",
       "      <td>0.016160</td>\n",
       "      <td>0.012928</td>\n",
       "      <td>0.020039</td>\n",
       "      <td>0.019392</td>\n",
       "      <td>0.003232</td>\n",
       "      <td>0.003555</td>\n",
       "      <td>0.0</td>\n",
       "      <td>0.004525</td>\n",
       "      <td>0.0</td>\n",
       "      <td>-0.020841</td>\n",
       "    </tr>\n",
       "    <tr>\n",
       "      <th>778</th>\n",
       "      <td>Attachment Parenting Links</td>\n",
       "      <td>http://kellymom.com/blog-post/aplinks/</td>\n",
       "      <td>ArticlesParenting: Day &amp; Night (this website)W...</td>\n",
       "      <td>1</td>\n",
       "      <td>0.671910</td>\n",
       "      <td>3305</td>\n",
       "      <td>0</td>\n",
       "      <td>6.426966</td>\n",
       "      <td>0.115385</td>\n",
       "      <td>0.000000</td>\n",
       "      <td>...</td>\n",
       "      <td>0.025243</td>\n",
       "      <td>0.007767</td>\n",
       "      <td>0.011650</td>\n",
       "      <td>0.027184</td>\n",
       "      <td>0.003883</td>\n",
       "      <td>0.011650</td>\n",
       "      <td>0.0</td>\n",
       "      <td>0.000000</td>\n",
       "      <td>0.0</td>\n",
       "      <td>-0.001559</td>\n",
       "    </tr>\n",
       "    <tr>\n",
       "      <th>1177</th>\n",
       "      <td>Bronchitis (ages 5 to 8)</td>\n",
       "      <td>https://www.babycenter.com/0_bronchitis-ages-5...</td>\n",
       "      <td>What is bronchitis?Bronchitis is an infection ...</td>\n",
       "      <td>0</td>\n",
       "      <td>0.552301</td>\n",
       "      <td>4446</td>\n",
       "      <td>1</td>\n",
       "      <td>5.192469</td>\n",
       "      <td>0.041667</td>\n",
       "      <td>0.000000</td>\n",
       "      <td>...</td>\n",
       "      <td>0.018935</td>\n",
       "      <td>0.015385</td>\n",
       "      <td>0.020118</td>\n",
       "      <td>0.028402</td>\n",
       "      <td>0.004734</td>\n",
       "      <td>0.005917</td>\n",
       "      <td>0.0</td>\n",
       "      <td>0.003550</td>\n",
       "      <td>0.0</td>\n",
       "      <td>-0.000743</td>\n",
       "    </tr>\n",
       "    <tr>\n",
       "      <th>2866</th>\n",
       "      <td>\\n\\n\\n\\n           Rheumatoid arthritis: Can d...</td>\n",
       "      <td>http://www.mayoclinic.org/diseases-conditions/...</td>\n",
       "      <td>Pueden determinadas dietas influir en los snto...</td>\n",
       "      <td>1</td>\n",
       "      <td>0.584127</td>\n",
       "      <td>4697</td>\n",
       "      <td>0</td>\n",
       "      <td>6.422222</td>\n",
       "      <td>0.035928</td>\n",
       "      <td>0.000000</td>\n",
       "      <td>...</td>\n",
       "      <td>0.004032</td>\n",
       "      <td>0.001344</td>\n",
       "      <td>0.013441</td>\n",
       "      <td>0.017473</td>\n",
       "      <td>0.000000</td>\n",
       "      <td>0.000000</td>\n",
       "      <td>0.0</td>\n",
       "      <td>0.002688</td>\n",
       "      <td>0.0</td>\n",
       "      <td>-0.000077</td>\n",
       "    </tr>\n",
       "    <tr>\n",
       "      <th>160</th>\n",
       "      <td>\\nTransformation Tuesday: Kenny Lost 45 Pounds...</td>\n",
       "      <td>https://www.teambeachbody.com/teambeachbodyblo...</td>\n",
       "      <td>Kenny never thought that he could get in great...</td>\n",
       "      <td>0</td>\n",
       "      <td>0.561404</td>\n",
       "      <td>2787</td>\n",
       "      <td>0</td>\n",
       "      <td>4.434698</td>\n",
       "      <td>0.142857</td>\n",
       "      <td>0.017857</td>\n",
       "      <td>...</td>\n",
       "      <td>0.015598</td>\n",
       "      <td>0.029463</td>\n",
       "      <td>0.025997</td>\n",
       "      <td>0.010399</td>\n",
       "      <td>0.003466</td>\n",
       "      <td>0.000000</td>\n",
       "      <td>0.0</td>\n",
       "      <td>0.005199</td>\n",
       "      <td>0.0</td>\n",
       "      <td>-0.147409</td>\n",
       "    </tr>\n",
       "  </tbody>\n",
       "</table>\n",
       "<p>5 rows × 58 columns</p>\n",
       "</div>"
      ],
      "text/plain": [
       "                                                  title  \\\n",
       "576                                  Letters, Fall 2016   \n",
       "778                          Attachment Parenting Links   \n",
       "1177                           Bronchitis (ages 5 to 8)   \n",
       "2866  \\n\\n\\n\\n           Rheumatoid arthritis: Can d...   \n",
       "160   \\nTransformation Tuesday: Kenny Lost 45 Pounds...   \n",
       "\n",
       "                                                   link  \\\n",
       "576   https://www.westonaprice.org/get-involved/lett...   \n",
       "778              http://kellymom.com/blog-post/aplinks/   \n",
       "1177  https://www.babycenter.com/0_bronchitis-ages-5...   \n",
       "2866  http://www.mayoclinic.org/diseases-conditions/...   \n",
       "160   https://www.teambeachbody.com/teambeachbodyblo...   \n",
       "\n",
       "                                                content  credentials  \\\n",
       "576   ON THE WISE TRADITIONS JOURNEY IN KENYA I know...            1   \n",
       "778   ArticlesParenting: Day & Night (this website)W...            1   \n",
       "1177  What is bronchitis?Bronchitis is an infection ...            0   \n",
       "2866  Pueden determinadas dietas influir en los snto...            1   \n",
       "160   Kenny never thought that he could get in great...            0   \n",
       "\n",
       "      unique_words  content_length  sources  avg_word_length  uppercase_title  \\\n",
       "576       0.468455           15994        0         4.799492         0.111111   \n",
       "778       0.671910            3305        0         6.426966         0.115385   \n",
       "1177      0.552301            4446        1         5.192469         0.041667   \n",
       "2866      0.584127            4697        0         6.422222         0.035928   \n",
       "160       0.561404            2787        0         4.434698         0.142857   \n",
       "\n",
       "      exclamations_title      ...             VBG       VBN       VBP  \\\n",
       "576             0.000000      ...        0.016160  0.012928  0.020039   \n",
       "778             0.000000      ...        0.025243  0.007767  0.011650   \n",
       "1177            0.000000      ...        0.018935  0.015385  0.020118   \n",
       "2866            0.000000      ...        0.004032  0.001344  0.013441   \n",
       "160             0.017857      ...        0.015598  0.029463  0.025997   \n",
       "\n",
       "           VBZ       WDT        WP  WP$       WRB   ``  predict_proba  \n",
       "576   0.019392  0.003232  0.003555  0.0  0.004525  0.0      -0.020841  \n",
       "778   0.027184  0.003883  0.011650  0.0  0.000000  0.0      -0.001559  \n",
       "1177  0.028402  0.004734  0.005917  0.0  0.003550  0.0      -0.000743  \n",
       "2866  0.017473  0.000000  0.000000  0.0  0.002688  0.0      -0.000077  \n",
       "160   0.010399  0.003466  0.000000  0.0  0.005199  0.0      -0.147409  \n",
       "\n",
       "[5 rows x 58 columns]"
      ]
     },
     "execution_count": 57,
     "metadata": {},
     "output_type": "execute_result"
    }
   ],
   "source": [
    "X_test.head()"
   ]
  },
  {
   "cell_type": "code",
   "execution_count": null,
   "metadata": {
    "collapsed": true
   },
   "outputs": [],
   "source": []
  },
  {
   "cell_type": "markdown",
   "metadata": {},
   "source": [
    "# Testing Different Models and ROC Curve"
   ]
  },
  {
   "cell_type": "code",
   "execution_count": 58,
   "metadata": {
    "collapsed": true
   },
   "outputs": [],
   "source": [
    "from sklearn.ensemble import GradientBoostingClassifier\n",
    "from sklearn.ensemble import RandomForestClassifier\n",
    "from sklearn.linear_model import LinearRegression\n",
    "from sklearn.linear_model import LogisticRegression"
   ]
  },
  {
   "cell_type": "code",
   "execution_count": 234,
   "metadata": {
    "collapsed": false
   },
   "outputs": [
    {
     "data": {
      "text/plain": [
       "Index([u'credentials', u'unique_words', u'content_length', u'sources',\n",
       "       u'avg_word_length', u'uppercase_title', u'exclamations_title',\n",
       "       u'exclamations_content', u'#', u'$', u'''', u'(', u')', u',', u'.',\n",
       "       u':', u'CC', u'CD', u'DT', u'EX', u'FW', u'IN', u'JJ', u'JJR', u'JJS',\n",
       "       u'LS', u'MD', u'NN', u'NNP', u'NNPS', u'NNS', u'PDT', u'POS', u'PRP',\n",
       "       u'PRP$', u'RB', u'RBR', u'RBS', u'RP', u'SYM', u'TO', u'UH', u'VB',\n",
       "       u'VBD', u'VBG', u'VBN', u'VBP', u'VBZ', u'WDT', u'WP', u'WP$', u'WRB',\n",
       "       u'``'],\n",
       "      dtype='object')"
      ]
     },
     "execution_count": 234,
     "metadata": {},
     "output_type": "execute_result"
    }
   ],
   "source": [
    "X_train.columns"
   ]
  },
  {
   "cell_type": "code",
   "execution_count": 60,
   "metadata": {
    "collapsed": false
   },
   "outputs": [],
   "source": [
    "X_train = X_train.drop(['title','link','content', 'stemmed_content'], axis=1)\n",
    "X_test = X_test.drop(['title','link','content', 'stemmed_content', 'predict_proba'], axis=1)"
   ]
  },
  {
   "cell_type": "code",
   "execution_count": 63,
   "metadata": {
    "collapsed": false
   },
   "outputs": [],
   "source": [
    "X_train = X_train.apply(pd.to_numeric)\n",
    "X_test = X_test.apply(pd.to_numeric)"
   ]
  },
  {
   "cell_type": "code",
   "execution_count": 64,
   "metadata": {
    "collapsed": true
   },
   "outputs": [],
   "source": [
    "##Fitting each model\n",
    "\n",
    "rf_train = RandomForestClassifier().fit(X_train, y_train)\n",
    "\n",
    "GBC = GradientBoostingClassifier().fit(X_train, y_train)\n",
    "linreg_train = LinearRegression().fit(X_train, y_train)\n",
    "\n",
    "logisticmodel = LogisticRegression().fit(X_train, y_train)"
   ]
  },
  {
   "cell_type": "code",
   "execution_count": 78,
   "metadata": {
    "collapsed": false
   },
   "outputs": [],
   "source": [
    "##Predicting classification probability for each model \n",
    "y_predictprob_df = rf_train.predict_proba(X_test)\n",
    "y_predictprob_lr = logisticmodel.predict_proba(X_test)\n",
    "y_predictlinreg = linreg_train.predict(X_test)\n",
    "y_predictgbc = GBC.predict_proba(X_test)\n",
    "y_pred_ensemble = (y_test_predictlogprobab_nb[:,1] + y_predictgbc[:,1])/2.0\n",
    "\n",
    "# Y_pred_avg = \n",
    "\n",
    "##fitting the roc curve and plotting \n",
    "false_positive_rate, true_positive_rate, thresholds = roc_curve(y_test, y_predictprob_lr[:,1])\n",
    "false_positive_rate_rf, true_positive_rate_rf, thresholds_rf = roc_curve(y_test, y_predictprob_df[:,1])\n",
    "false_positive_rate_gbc, true_positive_rate_gbc, thresholds_gbc = roc_curve(y_test, y_predictgbc[:,1])\n",
    "false_positive_rate_nb, true_positive_rate_nb, thresholds_nb = roc_curve(y_test, y_test_predictlogprobab_nb[:,1])\n",
    "false_positive_rate_ens, true_positive_rate_ens, thresholds_ens = roc_curve(y_test, y_pred_ensemble)\n",
    "\n",
    "#false_positive_rate_linreg, true_positive_rate_linreg, thresholds_linreg = roc_curve(y_test, y_predictlinreg)\n",
    "\n",
    "roc_auc_gbc = auc(false_positive_rate_gbc, true_positive_rate_gbc)\n",
    "roc_auc = auc(false_positive_rate, true_positive_rate)\n",
    "roc_auc_rf = auc(false_positive_rate_rf, true_positive_rate_rf)\n",
    "roc_auc_nb = auc(false_positive_rate_nb, true_positive_rate_nb)\n",
    "roc_ens = auc(false_positive_rate_ens, true_positive_rate_ens)\n",
    "\n",
    "#roc_auc_linreg = auc(false_positive_rate_linreg, true_positive_rate_linreg)\n"
   ]
  },
  {
   "cell_type": "code",
   "execution_count": 80,
   "metadata": {
    "collapsed": false
   },
   "outputs": [
    {
     "data": {
      "image/png": "[encoded data removed]",
      "text/plain": [
       "<matplotlib.figure.Figure at 0x11d265d90>"
      ]
     },
     "metadata": {},
     "output_type": "display_data"
    }
   ],
   "source": [
    "##Plot ROC\n",
    "plt.title('Receiver Operating Characteristic')\n",
    "\n",
    "plt.plot(false_positive_rate_gbc, true_positive_rate_gbc, 'g',\n",
    "label='GBC AUC = %0.2f'% roc_auc_gbc)\n",
    "\n",
    "plt.plot(false_positive_rate_rf, true_positive_rate_rf, 'k',\n",
    "label='RF AUC = %0.2f'% roc_auc_rf)\n",
    "\n",
    "plt.plot(false_positive_rate, true_positive_rate, 'b',\n",
    "label='LR AUC = %0.2f'% roc_auc)\n",
    "\n",
    "plt.plot(false_positive_rate_nb, true_positive_rate_nb, 'y',\n",
    "label='NB AUC = %0.2f'% roc_auc_nb)\n",
    "\n",
    "plt.plot(false_positive_rate_ens, true_positive_rate_ens, 'c',\n",
    "label='Ens AUC = %0.2f'% roc_ens)\n",
    "\n",
    "\n",
    "\n",
    "# plt.plot(false_positive_rate_nb, true_positive_rate_nb, 'r',\n",
    "# label='NB AUC = %0.2f'% roc_auc_nb)\n",
    "\n",
    "#plt.plot(false_positive_rate_linreg, true_positive_rate_linreg, 'r',\n",
    "#label='AUC = %0.2f'% roc_auc_linreg)\n",
    "\n",
    "plt.legend(loc='lower right')\n",
    "plt.plot([0,1],[0,1],'r--')\n",
    "#plt.xlim([-0.1,1.2])\n",
    "#plt.ylim([-0.1,1.2])\n",
    "plt.ylabel('True Positive Rate')\n",
    "plt.xlabel('False Positive Rate')\n",
    "plt.show()"
   ]
  },
  {
   "cell_type": "code",
   "execution_count": 208,
   "metadata": {
    "collapsed": false
   },
   "outputs": [
    {
     "data": {
      "text/plain": [
       "Index([u'credentials', u'unique_words', u'content_length', u'sources',\n",
       "       u'avg_word_length', u'uppercase_title', u'exclamations_title',\n",
       "       u'exclamations_content', u'#', u'$', u'''', u'(', u')', u',', u'.',\n",
       "       u':', u'CC', u'CD', u'DT', u'EX', u'FW', u'IN', u'JJ', u'JJR', u'JJS',\n",
       "       u'LS', u'MD', u'NN', u'NNP', u'NNPS', u'NNS', u'PDT', u'POS', u'PRP',\n",
       "       u'PRP$', u'RB', u'RBR', u'RBS', u'RP', u'SYM', u'TO', u'UH', u'VB',\n",
       "       u'VBD', u'VBG', u'VBN', u'VBP', u'VBZ', u'WDT', u'WP', u'WP$', u'WRB',\n",
       "       u'``'],\n",
       "      dtype='object')"
      ]
     },
     "execution_count": 208,
     "metadata": {},
     "output_type": "execute_result"
    }
   ],
   "source": [
    "X_train.columns"
   ]
  },
  {
   "cell_type": "code",
   "execution_count": null,
   "metadata": {
    "collapsed": true
   },
   "outputs": [],
   "source": [
    "log odds"
   ]
  },
  {
   "cell_type": "code",
   "execution_count": 105,
   "metadata": {
    "collapsed": false
   },
   "outputs": [],
   "source": [
    "features = zip (X_train.columns, GBC.feature_importances_)"
   ]
  },
  {
   "cell_type": "code",
   "execution_count": 112,
   "metadata": {
    "collapsed": false
   },
   "outputs": [],
   "source": [
    "# save the model to disk\n",
    "filename = 'GBC_model.pkl'\n",
    "pickle.dump(GBC, open(filename, 'wb'))"
   ]
  },
  {
   "cell_type": "code",
   "execution_count": 108,
   "metadata": {
    "collapsed": true
   },
   "outputs": [],
   "source": [
    "sorted_features = sorted(features, key=lambda x: x[1])"
   ]
  },
  {
   "cell_type": "code",
   "execution_count": 109,
   "metadata": {
    "collapsed": false
   },
   "outputs": [
    {
     "data": {
      "text/plain": [
       "[('CC', 0.0),\n",
       " ('LS', 0.0),\n",
       " ('WP$', 0.0),\n",
       " ('PRP$', 0.00031412507398595192),\n",
       " ('``', 0.00041365952266867318),\n",
       " ('sources', 0.00065108114729933589),\n",
       " ('credentials', 0.00082621040300441876),\n",
       " ('JJR', 0.0016221908168490232),\n",
       " ('SYM', 0.0021662793110200774),\n",
       " ('RP', 0.002940455143527101),\n",
       " ('JJS', 0.0030717299253658829),\n",
       " ('UH', 0.0031894662554426546),\n",
       " ('RBS', 0.0063174557351663007),\n",
       " ('NN', 0.0064642769344254855),\n",
       " ('PRP', 0.0071417123114112333),\n",
       " ('EX', 0.0074574970091003641),\n",
       " ('PDT', 0.0075126894896501125),\n",
       " ('RB', 0.0084852293583158739),\n",
       " ('WP', 0.008530926032493313),\n",
       " ('CD', 0.0096741973846903133),\n",
       " ('NNPS', 0.010272127441609113),\n",
       " ('VBP', 0.010893629809551721),\n",
       " ('VB', 0.011717844639795673),\n",
       " ('TO', 0.012190203941787141),\n",
       " ('RBR', 0.012362145504658573),\n",
       " ('NNS', 0.013167570720991794),\n",
       " ('unique_words', 0.013770045403262496),\n",
       " ('NNP', 0.014034974865456917),\n",
       " ('VBG', 0.014328176855936927),\n",
       " ('$', 0.014995610163770679),\n",
       " (')', 0.01542538980703565),\n",
       " ('WRB', 0.017152092765663023),\n",
       " ('#', 0.019039505189625286),\n",
       " ('IN', 0.01906467124560517),\n",
       " ('(', 0.021453733525335382),\n",
       " (\"''\", 0.021698785616996608),\n",
       " ('FW', 0.023374081184960187),\n",
       " ('JJ', 0.025409733708279748),\n",
       " ('.', 0.026947478639060125),\n",
       " ('MD', 0.02725207347684017),\n",
       " ('WDT', 0.029324409108053669),\n",
       " (':', 0.029335330892035584),\n",
       " ('VBZ', 0.030864042025483936),\n",
       " ('VBD', 0.032557879536808845),\n",
       " ('avg_word_length', 0.033709451337164353),\n",
       " (',', 0.036038188930484633),\n",
       " ('VBN', 0.039410173618142391),\n",
       " ('exclamations_title', 0.041748176359871624),\n",
       " ('exclamations_content', 0.042652934767456144),\n",
       " ('DT', 0.042936126125404435),\n",
       " ('POS', 0.0448841588929208),\n",
       " ('uppercase_title', 0.076049433011480344),\n",
       " ('content_length', 0.09916063903405474)]"
      ]
     },
     "execution_count": 109,
     "metadata": {},
     "output_type": "execute_result"
    }
   ],
   "source": [
    "sorted_features"
   ]
  },
  {
   "cell_type": "code",
   "execution_count": 132,
   "metadata": {
    "collapsed": true
   },
   "outputs": [],
   "source": [
    "from sklearn.ensemble.partial_dependence import plot_partial_dependence\n",
    "from sklearn.ensemble.partial_dependence import partial_dependence"
   ]
  },
  {
   "cell_type": "code",
   "execution_count": 139,
   "metadata": {
    "collapsed": false
   },
   "outputs": [
    {
     "data": {
      "text/plain": [
       "53"
      ]
     },
     "execution_count": 139,
     "metadata": {},
     "output_type": "execute_result"
    }
   ],
   "source": [
    "feature_names = list(X_train.columns)\n",
    "len(feature_names)"
   ]
  },
  {
   "cell_type": "code",
   "execution_count": 146,
   "metadata": {
    "collapsed": false
   },
   "outputs": [
    {
     "data": {
      "image/png": "[encoded data removed]",
      "text/plain": [
       "<matplotlib.figure.Figure at 0x11f948890>"
      ]
     },
     "metadata": {},
     "output_type": "display_data"
    },
    {
     "data": {
      "image/png": "[encoded data removed]",
      "text/plain": [
       "<matplotlib.figure.Figure at 0x123e7de50>"
      ]
     },
     "metadata": {},
     "output_type": "display_data"
    },
    {
     "data": {
      "image/png": "[encoded data removed]",
      "text/plain": [
       "<matplotlib.figure.Figure at 0x1262cde10>"
      ]
     },
     "metadata": {},
     "output_type": "display_data"
    },
    {
     "data": {
      "image/png": "[encoded data removed]",
      "text/plain": [
       "<matplotlib.figure.Figure at 0x123d242d0>"
      ]
     },
     "metadata": {},
     "output_type": "display_data"
    },
    {
     "data": {
      "image/png": "[encoded data removed]",
      "text/plain": [
       "<matplotlib.figure.Figure at 0x11f4e8350>"
      ]
     },
     "metadata": {},
     "output_type": "display_data"
    },
    {
     "data": {
      "image/png": "[encoded data removed]",
      "text/plain": [
       "<matplotlib.figure.Figure at 0x1245d3a50>"
      ]
     },
     "metadata": {},
     "output_type": "display_data"
    },
    {
     "data": {
      "image/png": "[encoded data removed]",
      "text/plain": [
       "<matplotlib.figure.Figure at 0x11e476350>"
      ]
     },
     "metadata": {},
     "output_type": "display_data"
    },
    {
     "data": {
      "image/png": "[encoded data removed]",
      "text/plain": [
       "<matplotlib.figure.Figure at 0x129491f10>"
      ]
     },
     "metadata": {},
     "output_type": "display_data"
    },
    {
     "data": {
      "image/png": "[encoded data removed]",
      "text/plain": [
       "<matplotlib.figure.Figure at 0x11fad4390>"
      ]
     },
     "metadata": {},
     "output_type": "display_data"
    },
    {
     "data": {
      "image/png": "[encoded data removed]",
      "text/plain": [
       "<matplotlib.figure.Figure at 0x11f566850>"
      ]
     },
     "metadata": {},
     "output_type": "display_data"
    },
    {
     "data": {
      "image/png": "[encoded data removed]",
      "text/plain": [
       "<matplotlib.figure.Figure at 0x11fab2bd0>"
      ]
     },
     "metadata": {},
     "output_type": "display_data"
    },
    {
     "data": {
      "image/png": "[encoded data removed]",
      "text/plain": [
       "<matplotlib.figure.Figure at 0x12641b1d0>"
      ]
     },
     "metadata": {},
     "output_type": "display_data"
    },
    {
     "data": {
      "image/png": "[encoded data removed]",
      "text/plain": [
       "<matplotlib.figure.Figure at 0x128d69990>"
      ]
     },
     "metadata": {},
     "output_type": "display_data"
    },
    {
     "data": {
      "image/png": "[encoded data removed]",
      "text/plain": [
       "<matplotlib.figure.Figure at 0x128fc6d10>"
      ]
     },
     "metadata": {},
     "output_type": "display_data"
    },
    {
     "data": {
      "image/png": "[encoded data removed]",
      "text/plain": [
       "<matplotlib.figure.Figure at 0x128fb5350>"
      ]
     },
     "metadata": {},
     "output_type": "display_data"
    },
    {
     "data": {
      "image/png": "[encoded data removed]",
      "text/plain": [
       "<matplotlib.figure.Figure at 0x1267b73d0>"
      ]
     },
     "metadata": {},
     "output_type": "display_data"
    },
    {
     "data": {
      "image/png": "[encoded data removed]",
      "text/plain": [
       "<matplotlib.figure.Figure at 0x11e390450>"
      ]
     },
     "metadata": {},
     "output_type": "display_data"
    }
   ],
   "source": [
    "for i in xrange(17):\n",
    "    fig, axs = plot_partial_dependence(GBC, X_train, xrange(3*i, 3*i+3), feature_names=feature_names)"
   ]
  },
  {
   "cell_type": "code",
   "execution_count": null,
   "metadata": {
    "collapsed": true
   },
   "outputs": [],
   "source": []
  },
  {
   "cell_type": "code",
   "execution_count": null,
   "metadata": {
    "collapsed": true
   },
   "outputs": [],
   "source": []
  },
  {
   "cell_type": "code",
   "execution_count": null,
   "metadata": {
    "collapsed": true
   },
   "outputs": [],
   "source": []
  },
  {
   "cell_type": "code",
   "execution_count": null,
   "metadata": {
    "collapsed": true
   },
   "outputs": [],
   "source": []
  },
  {
   "cell_type": "code",
   "execution_count": null,
   "metadata": {
    "collapsed": true
   },
   "outputs": [],
   "source": []
  },
  {
   "cell_type": "code",
   "execution_count": 128,
   "metadata": {
    "collapsed": false
   },
   "outputs": [],
   "source": [
    "input_article = pd.DataFrame(columns=['title', 'article'])"
   ]
  },
  {
   "cell_type": "code",
   "execution_count": 130,
   "metadata": {
    "collapsed": false
   },
   "outputs": [],
   "source": [
    "input_article = input_article.append({'title': 'test', 'article':}, ignore_index=True)"
   ]
  },
  {
   "cell_type": "code",
   "execution_count": 131,
   "metadata": {
    "collapsed": false
   },
   "outputs": [
    {
     "data": {
      "text/html": [
       "<div>\n",
       "<table border=\"1\" class=\"dataframe\">\n",
       "  <thead>\n",
       "    <tr style=\"text-align: right;\">\n",
       "      <th></th>\n",
       "      <th>title</th>\n",
       "      <th>article</th>\n",
       "    </tr>\n",
       "  </thead>\n",
       "  <tbody>\n",
       "    <tr>\n",
       "      <th>0</th>\n",
       "      <td>test</td>\n",
       "      <td>NaN</td>\n",
       "    </tr>\n",
       "  </tbody>\n",
       "</table>\n",
       "</div>"
      ],
      "text/plain": [
       "  title article\n",
       "0  test     NaN"
      ]
     },
     "execution_count": 131,
     "metadata": {},
     "output_type": "execute_result"
    }
   ],
   "source": [
    "input_article.head()"
   ]
  },
  {
   "cell_type": "code",
   "execution_count": null,
   "metadata": {
    "collapsed": true
   },
   "outputs": [],
   "source": []
  }
 ],
 "metadata": {
  "anaconda-cloud": {},
  "kernelspec": {
   "display_name": "Python [default]",
   "language": "python",
   "name": "python2"
  },
  "language_info": {
   "codemirror_mode": {
    "name": "ipython",
    "version": 2
   },
   "file_extension": ".py",
   "mimetype": "text/x-python",
   "name": "python",
   "nbconvert_exporter": "python",
   "pygments_lexer": "ipython2",
   "version": "2.7.12"
  }
 },
 "nbformat": 4,
 "nbformat_minor": 1
}
