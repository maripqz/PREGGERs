{
 "cells": [
  {
   "cell_type": "code",
   "execution_count": 15,
   "metadata": {
    "collapsed": false
   },
   "outputs": [],
   "source": [
    "import glob\n",
    "import pandas as pd\n",
    "from nltk.tokenize import word_tokenize\n",
    "from nltk.stem.snowball import SnowballStemmer\n",
    "from sklearn.naive_bayes import MultinomialNB,BernoulliNB,GaussianNB\n",
    "from sklearn.model_selection import train_test_split\n",
    "from nltk.corpus import stopwords\n",
    "import numpy as np\n",
    "from sklearn.model_selection import cross_val_score\n",
    "import cPickle as pickle\n",
    "from sklearn.cluster import KMeans\n",
    "from sklearn.feature_extraction.text import TfidfVectorizer\n",
    "import matplotlib.pyplot as plt\n",
    "from sklearn.metrics import confusion_matrix\n",
    "from sklearn.decomposition import PCA\n",
    "from sklearn.decomposition import TruncatedSVD\n",
    "snowball = SnowballStemmer('english')\n",
    "%matplotlib inline\n",
    "plt.style.use('ggplot')"
   ]
  },
  {
   "cell_type": "markdown",
   "metadata": {},
   "source": [
    "## Load Data and dedupe"
   ]
  },
  {
   "cell_type": "code",
   "execution_count": 76,
   "metadata": {
    "collapsed": false
   },
   "outputs": [],
   "source": [
    "df1 = pd.read_csv('../data/kelly_mom.csv', header=None)\n",
    "df2 = pd.read_csv('../data/baby_center.csv', header=None)\n",
    "df3 = pd.read_csv('../data/baby_center_vitamins.csv', header=None)\n",
    "df4 = pd.read_csv('../data/food_insight.csv', header=None)\n",
    "df5 = pd.read_csv('../data/weight_wellness.csv', header=None)\n",
    "df6 = pd.read_csv('../data/what_to_expect.csv', header=None)\n",
    "df7 = pd.read_csv('../data/parenting.csv', header=None)\n",
    "df8 = pd.read_csv('../data/baby_center_formula.csv', header=None)\n",
    "df9 = pd.read_csv('../data/parenting2.csv', header=None)\n",
    "df10 = pd.read_csv('../data/the_bump.csv', header=None)\n",
    "df11 = pd.read_csv('../data/the_bump2.csv', header=None)\n",
    "df12 = pd.read_csv('../data/the_bump3.csv', header=None)\n",
    "df13 = pd.read_csv('../data/parenting3.csv', header=None)\n",
    "df14 = pd.read_csv('../data/baby_center3.csv', header=None)\n",
    "df15 = pd.read_csv('../data/baby_center4.csv', header=None)\n",
    "df_eat = pd.read_csv('../data/eat_right.csv', header=None)\n",
    "df_fan = pd.read_csv('../data/foodandnutrition.csv', header=None)\n",
    "df_mayo = pd.read_csv('../data/mayo.csv', header=None)\n",
    "\n"
   ]
  },
  {
   "cell_type": "code",
   "execution_count": 77,
   "metadata": {
    "collapsed": false
   },
   "outputs": [],
   "source": [
    "frames = [df1, df2, df3, df4, df5, df6, df7, df8, df9, df10, df11, df12, df13, df14, df15, df_eat, df_fan, df_mayo]"
   ]
  },
  {
   "cell_type": "code",
   "execution_count": 78,
   "metadata": {
    "collapsed": true
   },
   "outputs": [],
   "source": [
    "result = pd.concat(frames)"
   ]
  },
  {
   "cell_type": "code",
   "execution_count": 79,
   "metadata": {
    "collapsed": false
   },
   "outputs": [
    {
     "data": {
      "text/html": [
       "<div>\n",
       "<table border=\"1\" class=\"dataframe\">\n",
       "  <thead>\n",
       "    <tr style=\"text-align: right;\">\n",
       "      <th></th>\n",
       "      <th>0</th>\n",
       "      <th>1</th>\n",
       "      <th>2</th>\n",
       "    </tr>\n",
       "  </thead>\n",
       "  <tbody>\n",
       "    <tr>\n",
       "      <th>count</th>\n",
       "      <td>4231</td>\n",
       "      <td>4151</td>\n",
       "      <td>3434</td>\n",
       "    </tr>\n",
       "    <tr>\n",
       "      <th>unique</th>\n",
       "      <td>3285</td>\n",
       "      <td>3025</td>\n",
       "      <td>2359</td>\n",
       "    </tr>\n",
       "    <tr>\n",
       "      <th>top</th>\n",
       "      <td>A Healthy Start to Reduce Childhood Obesity</td>\n",
       "      <td>http://www.eatright.org/resource/health/pregna...</td>\n",
       "      <td>A Healthy Start to Reduce Childhood ObesityRev...</td>\n",
       "    </tr>\n",
       "    <tr>\n",
       "      <th>freq</th>\n",
       "      <td>10</td>\n",
       "      <td>20</td>\n",
       "      <td>20</td>\n",
       "    </tr>\n",
       "  </tbody>\n",
       "</table>\n",
       "</div>"
      ],
      "text/plain": [
       "                                                  0  \\\n",
       "count                                          4231   \n",
       "unique                                         3285   \n",
       "top     A Healthy Start to Reduce Childhood Obesity   \n",
       "freq                                             10   \n",
       "\n",
       "                                                        1  \\\n",
       "count                                                4151   \n",
       "unique                                               3025   \n",
       "top     http://www.eatright.org/resource/health/pregna...   \n",
       "freq                                                   20   \n",
       "\n",
       "                                                        2  \n",
       "count                                                3434  \n",
       "unique                                               2359  \n",
       "top     A Healthy Start to Reduce Childhood ObesityRev...  \n",
       "freq                                                   20  "
      ]
     },
     "execution_count": 79,
     "metadata": {},
     "output_type": "execute_result"
    }
   ],
   "source": [
    "result.describe()"
   ]
  },
  {
   "cell_type": "code",
   "execution_count": 84,
   "metadata": {
    "collapsed": false
   },
   "outputs": [],
   "source": [
    "uniques = result.drop_duplicates(subset=[2])"
   ]
  },
  {
   "cell_type": "code",
   "execution_count": 6,
   "metadata": {
    "collapsed": false
   },
   "outputs": [
    {
     "data": {
      "text/html": [
       "<div>\n",
       "<table border=\"1\" class=\"dataframe\">\n",
       "  <thead>\n",
       "    <tr style=\"text-align: right;\">\n",
       "      <th></th>\n",
       "      <th>Unnamed: 0</th>\n",
       "    </tr>\n",
       "  </thead>\n",
       "  <tbody>\n",
       "    <tr>\n",
       "      <th>count</th>\n",
       "      <td>2360.000000</td>\n",
       "    </tr>\n",
       "    <tr>\n",
       "      <th>mean</th>\n",
       "      <td>176.746186</td>\n",
       "    </tr>\n",
       "    <tr>\n",
       "      <th>std</th>\n",
       "      <td>153.478158</td>\n",
       "    </tr>\n",
       "    <tr>\n",
       "      <th>min</th>\n",
       "      <td>0.000000</td>\n",
       "    </tr>\n",
       "    <tr>\n",
       "      <th>25%</th>\n",
       "      <td>57.000000</td>\n",
       "    </tr>\n",
       "    <tr>\n",
       "      <th>50%</th>\n",
       "      <td>131.000000</td>\n",
       "    </tr>\n",
       "    <tr>\n",
       "      <th>75%</th>\n",
       "      <td>260.250000</td>\n",
       "    </tr>\n",
       "    <tr>\n",
       "      <th>max</th>\n",
       "      <td>735.000000</td>\n",
       "    </tr>\n",
       "  </tbody>\n",
       "</table>\n",
       "</div>"
      ],
      "text/plain": [
       "        Unnamed: 0\n",
       "count  2360.000000\n",
       "mean    176.746186\n",
       "std     153.478158\n",
       "min       0.000000\n",
       "25%      57.000000\n",
       "50%     131.000000\n",
       "75%     260.250000\n",
       "max     735.000000"
      ]
     },
     "execution_count": 6,
     "metadata": {},
     "output_type": "execute_result"
    }
   ],
   "source": [
    "uniques.describe()"
   ]
  },
  {
   "cell_type": "code",
   "execution_count": 86,
   "metadata": {
    "collapsed": false
   },
   "outputs": [
    {
     "data": {
      "text/html": [
       "<div>\n",
       "<table border=\"1\" class=\"dataframe\">\n",
       "  <thead>\n",
       "    <tr style=\"text-align: right;\">\n",
       "      <th></th>\n",
       "      <th>0</th>\n",
       "      <th>1</th>\n",
       "      <th>2</th>\n",
       "    </tr>\n",
       "  </thead>\n",
       "  <tbody>\n",
       "    <tr>\n",
       "      <th>0</th>\n",
       "      <td>Mini-Reviews – Nutrition (various books)</td>\n",
       "      <td>http://kellymom.com/parenting/reviews/reviews_...</td>\n",
       "      <td>Child of Mine: Feeding With Love and Good Sens...</td>\n",
       "    </tr>\n",
       "    <tr>\n",
       "      <th>1</th>\n",
       "      <td>Nutrition for mom while pregnant &amp; breastfeedi...</td>\n",
       "      <td>http://kellymom.com/tandem-faq/04momnutrition/</td>\n",
       "      <td>Special Dietary Considerations (Nursing &amp; preg...</td>\n",
       "    </tr>\n",
       "    <tr>\n",
       "      <th>2</th>\n",
       "      <td>Will breastfeeding affect the nutrition of my ...</td>\n",
       "      <td>http://kellymom.com/tandem-faq/03fetalnutrition/</td>\n",
       "      <td>This concern is valid for malnourished mothers...</td>\n",
       "    </tr>\n",
       "    <tr>\n",
       "      <th>3</th>\n",
       "      <td>Nutrition for Breastfeeding Toddlers</td>\n",
       "      <td>http://kellymom.com/nutrition/starting-solids/...</td>\n",
       "      <td>DeutschIt seems that all the the information I...</td>\n",
       "    </tr>\n",
       "    <tr>\n",
       "      <th>4</th>\n",
       "      <td>Meet Our Sponsor: Theralogix</td>\n",
       "      <td>http://kellymom.com/current-sponsor/meet-spons...</td>\n",
       "      <td>Our sponsor for the month is Theralogix. They ...</td>\n",
       "    </tr>\n",
       "    <tr>\n",
       "      <th>5</th>\n",
       "      <td>Meet Our Sponsor: pumpspotting</td>\n",
       "      <td>http://kellymom.com/sponsors/meet-sponsor-pump...</td>\n",
       "      <td>Our sponsor for the month is pumpspotting, an ...</td>\n",
       "    </tr>\n",
       "    <tr>\n",
       "      <th>6</th>\n",
       "      <td>A message from our sponsor: Doing Our Part for...</td>\n",
       "      <td>http://kellymom.com/sponsors/message-sponsor-p...</td>\n",
       "      <td>Our sponsor for the month is AmedabyRen R. Fis...</td>\n",
       "    </tr>\n",
       "    <tr>\n",
       "      <th>7</th>\n",
       "      <td>Meet Our Sponsor: Theralogix</td>\n",
       "      <td>http://kellymom.com/sponsors/meet-our-sponsor-...</td>\n",
       "      <td>Our sponsor for the month is Theralogix, maker...</td>\n",
       "    </tr>\n",
       "    <tr>\n",
       "      <th>8</th>\n",
       "      <td>Vitamin D and Breastfeeding: An interview with...</td>\n",
       "      <td>http://kellymom.com/nutrition/vitamins/vitamin...</td>\n",
       "      <td>Dr. Bruce Hollis is the lead author of a 2015s...</td>\n",
       "    </tr>\n",
       "    <tr>\n",
       "      <th>9</th>\n",
       "      <td>What do I need to know about the WHO Code?</td>\n",
       "      <td>http://kellymom.com/bf/advocacy/what-do-i-need...</td>\n",
       "      <td>Publications from www.ibfan-icdc.orgThe WHO Co...</td>\n",
       "    </tr>\n",
       "    <tr>\n",
       "      <th>10</th>\n",
       "      <td>Breastfeeding the Type 1 Diabetic Child</td>\n",
       "      <td>http://kellymom.com/health/baby-health/breastf...</td>\n",
       "      <td>by Erin Hayden-Baldauf, MSEd, IBCLC, CD(DONA)I...</td>\n",
       "    </tr>\n",
       "    <tr>\n",
       "      <th>11</th>\n",
       "      <td>What does a breastfeeding mother look like?</td>\n",
       "      <td>http://kellymom.com/bf/normal/picture-of-success/</td>\n",
       "      <td>By Kelly Bonyata, BS, IBCLCWhen you hear breas...</td>\n",
       "    </tr>\n",
       "    <tr>\n",
       "      <th>12</th>\n",
       "      <td>What do health authorities say about breastfee...</td>\n",
       "      <td>http://kellymom.com/ages/after12mo/aap-breastf...</td>\n",
       "      <td>Julia Shilova - Fotolia.comThe World Health Or...</td>\n",
       "    </tr>\n",
       "    <tr>\n",
       "      <th>13</th>\n",
       "      <td>Häufig gestellte Fragen zum Tandemstillen</td>\n",
       "      <td>http://kellymom.com/translatation/german/haufi...</td>\n",
       "      <td>Image credit: Mothering Touch on flickrKelly B...</td>\n",
       "    </tr>\n",
       "    <tr>\n",
       "      <th>14</th>\n",
       "      <td>Breastfeeding During Pregnancy and Tandem Nurs...</td>\n",
       "      <td>http://kellymom.com/ages/tandem/official-tande...</td>\n",
       "      <td>Image credit: Mothering Touch on flickrKelly B...</td>\n",
       "    </tr>\n",
       "    <tr>\n",
       "      <th>15</th>\n",
       "      <td>Is baby ready for solid foods? (What do the ex...</td>\n",
       "      <td>http://kellymom.com/ages/older-infant/delay-so...</td>\n",
       "      <td>Image courtesy of imagerymajestic / FreeDigita...</td>\n",
       "    </tr>\n",
       "    <tr>\n",
       "      <th>16</th>\n",
       "      <td>How do I determine if a medication is safe for...</td>\n",
       "      <td>http://kellymom.com/hot-topics/med-risks/</td>\n",
       "      <td>Have you ever been told you need to stop breas...</td>\n",
       "    </tr>\n",
       "    <tr>\n",
       "      <th>17</th>\n",
       "      <td>Why Keep Infant Formula Marketing Out of Healt...</td>\n",
       "      <td>http://kellymom.com/blog-post/why-keep-infant-...</td>\n",
       "      <td>There are a number of common objections I hear...</td>\n",
       "    </tr>\n",
       "    <tr>\n",
       "      <th>18</th>\n",
       "      <td>Infant Formula Corporations Have Violated Worl...</td>\n",
       "      <td>http://kellymom.com/bf/advocacy/infant-formula...</td>\n",
       "      <td>Eva Seidelman, Public Citizen33 years ago toda...</td>\n",
       "    </tr>\n",
       "    <tr>\n",
       "      <th>19</th>\n",
       "      <td>When will my milk come in?</td>\n",
       "      <td>http://kellymom.com/ages/newborn/when-will-my-...</td>\n",
       "      <td>Image credit: RaphaelGoetter on flickrMilk pro...</td>\n",
       "    </tr>\n",
       "    <tr>\n",
       "      <th>20</th>\n",
       "      <td>Milk Bank FAQ</td>\n",
       "      <td>http://kellymom.com/ages/bf-preemie/milk-bank-...</td>\n",
       "      <td>When we talk about human milk banks in North A...</td>\n",
       "    </tr>\n",
       "    <tr>\n",
       "      <th>21</th>\n",
       "      <td>Perceived Insufficient Milk</td>\n",
       "      <td>http://kellymom.com/bf/got-milk/perceived-insu...</td>\n",
       "      <td>by Diana Cassar-Uhl, MPH, IBCLCImage credit: j...</td>\n",
       "    </tr>\n",
       "    <tr>\n",
       "      <th>22</th>\n",
       "      <td>My power went out and I have breastmilk in the...</td>\n",
       "      <td>http://kellymom.com/hot-topics/frozen-milk-pow...</td>\n",
       "      <td>Credit: NASA/GSFC/Jeff Schmaltz/MODIS Land Rap...</td>\n",
       "    </tr>\n",
       "    <tr>\n",
       "      <th>23</th>\n",
       "      <td>Lactation After the Loss of a Baby: Resources</td>\n",
       "      <td>http://kellymom.com/bf/concerns/mother/lactati...</td>\n",
       "      <td>Resources for mothers who are lactating and we...</td>\n",
       "    </tr>\n",
       "    <tr>\n",
       "      <th>24</th>\n",
       "      <td>Maternity Leave and Breastfeeding Rates</td>\n",
       "      <td>http://kellymom.com/blog-post/maternity-leave-...</td>\n",
       "      <td>Maternity Leave and Breastfeeding RatesHeres a...</td>\n",
       "    </tr>\n",
       "    <tr>\n",
       "      <th>25</th>\n",
       "      <td>A Comparison of Breastfeeding Rates by Country</td>\n",
       "      <td>http://kellymom.com/fun/trivia/bf-rates-2004/</td>\n",
       "      <td>Ever wonder how breastfeeding rates compare fr...</td>\n",
       "    </tr>\n",
       "    <tr>\n",
       "      <th>26</th>\n",
       "      <td>Childcare and the Breastfed Baby</td>\n",
       "      <td>http://kellymom.com/bf/pumpingmoms/employed-mo...</td>\n",
       "      <td>Image credit: e_chaya on flickrResources on ch...</td>\n",
       "    </tr>\n",
       "    <tr>\n",
       "      <th>27</th>\n",
       "      <td>Mother-2-Mother Concerns: Fussiness</td>\n",
       "      <td>http://kellymom.com/mother2mother/m2m-fussiness/</td>\n",
       "      <td>Reprinted from Mother-2-Mother.com (2000-2006)...</td>\n",
       "    </tr>\n",
       "    <tr>\n",
       "      <th>28</th>\n",
       "      <td>Insurance Reimbursement of Breast Pumps – Samp...</td>\n",
       "      <td>http://kellymom.com/mother2mother/insurance-re...</td>\n",
       "      <td>Reprinted from Mother-2-Mother.com (2000-2006)...</td>\n",
       "    </tr>\n",
       "    <tr>\n",
       "      <th>29</th>\n",
       "      <td>Evidence-Based Practice</td>\n",
       "      <td>http://kellymom.com/about/evidence-based-pract...</td>\n",
       "      <td>Following are some useful links on evidence-ba...</td>\n",
       "    </tr>\n",
       "    <tr>\n",
       "      <th>...</th>\n",
       "      <td>...</td>\n",
       "      <td>...</td>\n",
       "      <td>...</td>\n",
       "    </tr>\n",
       "    <tr>\n",
       "      <th>648</th>\n",
       "      <td>\\n\\n\\n\\n           Publications - Mayo Clinic ...</td>\n",
       "      <td>http://www.mayo.edu/research/searchpublication...</td>\n",
       "      <td>Publications   Safarova MS, Klee EW, Baudhuin ...</td>\n",
       "    </tr>\n",
       "    <tr>\n",
       "      <th>649</th>\n",
       "      <td>\\n\\n\\n\\n           Publications - Mayo Clinic ...</td>\n",
       "      <td>http://www.mayo.edu/research/searchpublication...</td>\n",
       "      <td>Publications   Ratuapli SK, Thind K, Fleischer...</td>\n",
       "    </tr>\n",
       "    <tr>\n",
       "      <th>651</th>\n",
       "      <td>\\n\\n\\n\\n           Nacimiento prematuro Síntom...</td>\n",
       "      <td>http://www.mayoclinic.org/es-es/diseases-condi...</td>\n",
       "      <td>SymptomsBy Mayo Clinic Staff   Un parto premat...</td>\n",
       "    </tr>\n",
       "    <tr>\n",
       "      <th>653</th>\n",
       "      <td>\\n\\n\\n\\n           Publications - Mayo Clinic ...</td>\n",
       "      <td>http://www.mayo.edu/research/searchpublication...</td>\n",
       "      <td>Publications   Ranadive SM, Harvey RE, Lahr BD...</td>\n",
       "    </tr>\n",
       "    <tr>\n",
       "      <th>654</th>\n",
       "      <td>\\n\\n\\n\\n           Publications - Mayo Clinic ...</td>\n",
       "      <td>http://www.mayo.edu/research/searchpublication...</td>\n",
       "      <td>Publications   Moris M, Raimondo M, Woodward T...</td>\n",
       "    </tr>\n",
       "    <tr>\n",
       "      <th>655</th>\n",
       "      <td>\\n\\n\\n\\n           Publications - Mayo Clinic ...</td>\n",
       "      <td>http://www.mayo.edu/research/searchpublication...</td>\n",
       "      <td>Publications   He T, Santhanam AV, Lu T, d'Usc...</td>\n",
       "    </tr>\n",
       "    <tr>\n",
       "      <th>656</th>\n",
       "      <td>\\n\\n\\n\\n           Publications - Mayo Clinic ...</td>\n",
       "      <td>http://www.mayo.edu/research/searchpublication...</td>\n",
       "      <td>Publications   Australian Ovarian Cancer Study...</td>\n",
       "    </tr>\n",
       "    <tr>\n",
       "      <th>657</th>\n",
       "      <td>\\n\\n\\n\\n           Publications - Mayo Clinic ...</td>\n",
       "      <td>http://www.mayo.edu/research/searchpublication...</td>\n",
       "      <td>Publications   Le-Rademacher J, Hillman SL, Me...</td>\n",
       "    </tr>\n",
       "    <tr>\n",
       "      <th>658</th>\n",
       "      <td>\\n\\n\\n\\n           Publications - Mayo Clinic ...</td>\n",
       "      <td>http://www.mayo.edu/research/searchpublication...</td>\n",
       "      <td>Publications   LUNG SAFE Investigators//ESICM ...</td>\n",
       "    </tr>\n",
       "    <tr>\n",
       "      <th>659</th>\n",
       "      <td>\\n\\n\\n\\n           Publications - Mayo Clinic ...</td>\n",
       "      <td>http://www.mayo.edu/research/searchpublication...</td>\n",
       "      <td>Publications   Norambuena GA, Patel R, Karau M...</td>\n",
       "    </tr>\n",
       "    <tr>\n",
       "      <th>660</th>\n",
       "      <td>\\n\\n\\n\\n           Publications - Mayo Clinic ...</td>\n",
       "      <td>http://www.mayo.edu/research/searchpublication...</td>\n",
       "      <td>Publications   Sharma A, Baumann NA, Shah P. B...</td>\n",
       "    </tr>\n",
       "    <tr>\n",
       "      <th>664</th>\n",
       "      <td>\\n\\n\\n\\n           Publications - Mayo Clinic ...</td>\n",
       "      <td>http://www.mayo.edu/research/searchpublication...</td>\n",
       "      <td>Publications   Busis NA, Shanafelt TD, Keran C...</td>\n",
       "    </tr>\n",
       "    <tr>\n",
       "      <th>667</th>\n",
       "      <td>\\n\\n\\n\\n           Genomics study targets wome...</td>\n",
       "      <td>http://www.mayoclinic.org/diseases-conditions/...</td>\n",
       "      <td>Living with cancer blog  Genomics study target...</td>\n",
       "    </tr>\n",
       "    <tr>\n",
       "      <th>669</th>\n",
       "      <td>\\n\\n\\n\\n           Take time to understand dia...</td>\n",
       "      <td>http://www.mayoclinic.org/diseases-conditions/...</td>\n",
       "      <td>Living with diabetes blog  Take time to unders...</td>\n",
       "    </tr>\n",
       "    <tr>\n",
       "      <th>673</th>\n",
       "      <td>\\n\\n\\n\\n           Nacimiento prematuro Preven...</td>\n",
       "      <td>http://www.mayoclinic.org/es-es/diseases-condi...</td>\n",
       "      <td>PreventionBy Mayo Clinic Staff   Aunque la cau...</td>\n",
       "    </tr>\n",
       "    <tr>\n",
       "      <th>676</th>\n",
       "      <td>\\n\\n\\n\\n           Why you should be tested fo...</td>\n",
       "      <td>http://www.mayoclinic.org/diseases-conditions/...</td>\n",
       "      <td>Living with diabetes blog  Why you should be t...</td>\n",
       "    </tr>\n",
       "    <tr>\n",
       "      <th>677</th>\n",
       "      <td>\\n\\n\\n\\n           Publications - Mayo Clinic ...</td>\n",
       "      <td>http://www.mayo.edu/research/searchpublication...</td>\n",
       "      <td>Publications   Threadcraft M, Fouad L, Bruce A...</td>\n",
       "    </tr>\n",
       "    <tr>\n",
       "      <th>685</th>\n",
       "      <td>\\n\\n\\n\\n           Integrative approaches to t...</td>\n",
       "      <td>http://www.mayo.edu/integrative-approaches-to-...</td>\n",
       "      <td>Integrative approaches to treating pain   You'...</td>\n",
       "    </tr>\n",
       "    <tr>\n",
       "      <th>687</th>\n",
       "      <td>\\n\\n\\n\\n           Nacimiento prematuro Cómo p...</td>\n",
       "      <td>http://www.mayoclinic.org/es-es/diseases-condi...</td>\n",
       "      <td>Preparing for your appointmentBy Mayo Clinic S...</td>\n",
       "    </tr>\n",
       "    <tr>\n",
       "      <th>688</th>\n",
       "      <td>\\n\\n\\n\\n           Nacimiento prematuro Modo d...</td>\n",
       "      <td>http://www.mayoclinic.org/es-es/diseases-condi...</td>\n",
       "      <td>Lifestyle and home remediesBy Mayo Clinic Staf...</td>\n",
       "    </tr>\n",
       "    <tr>\n",
       "      <th>698</th>\n",
       "      <td>\\n\\n\\n\\n           Nacimiento prematuro Tratam...</td>\n",
       "      <td>http://www.mayoclinic.org/es-es/diseases-condi...</td>\n",
       "      <td>Treatments and drugsBy Mayo Clinic Staff  Cons...</td>\n",
       "    </tr>\n",
       "    <tr>\n",
       "      <th>700</th>\n",
       "      <td>\\n\\n\\n\\n           Mediators of insulin resist...</td>\n",
       "      <td>http://www.mayo.edu/research/clinical-trials/c...</td>\n",
       "      <td>OverviewStudy typeObservationalStudy IDsStudy ...</td>\n",
       "    </tr>\n",
       "    <tr>\n",
       "      <th>701</th>\n",
       "      <td>\\n\\n\\n\\n           Publications - Mayo Clinic ...</td>\n",
       "      <td>http://www.mayo.edu/research/searchpublication...</td>\n",
       "      <td>Publications   Short JH, Bradley C, Blair JE, ...</td>\n",
       "    </tr>\n",
       "    <tr>\n",
       "      <th>704</th>\n",
       "      <td>\\n\\n\\n\\n           Nacimiento prematuro Compli...</td>\n",
       "      <td>http://www.mayoclinic.org/es-es/diseases-condi...</td>\n",
       "      <td>ComplicationsBy Mayo Clinic Staff   Si bien no...</td>\n",
       "    </tr>\n",
       "    <tr>\n",
       "      <th>715</th>\n",
       "      <td>\\n\\n\\n\\n           Publications - Mayo Clinic ...</td>\n",
       "      <td>http://www.mayo.edu/research/searchpublication...</td>\n",
       "      <td>Publications   Krause ML, Elrashidi MY, Halvor...</td>\n",
       "    </tr>\n",
       "    <tr>\n",
       "      <th>725</th>\n",
       "      <td>\\n\\n\\n\\n           Publications - Mayo Clinic ...</td>\n",
       "      <td>http://www.mayo.edu/research/searchpublication...</td>\n",
       "      <td>Publications   Bodelon C, Oh H, Chatterjee N, ...</td>\n",
       "    </tr>\n",
       "    <tr>\n",
       "      <th>730</th>\n",
       "      <td>\\n\\n\\n\\n           Estilo de Vida Saludable - ...</td>\n",
       "      <td>http://www.mayoclinic.org/es-es/healthy-lifestyle</td>\n",
       "      <td>Informacin y herramientas para un estilo de vi...</td>\n",
       "    </tr>\n",
       "    <tr>\n",
       "      <th>731</th>\n",
       "      <td>\\n\\n\\n\\n           Obesidad Blog de expertos -...</td>\n",
       "      <td>http://www.mayoclinic.org/es-es/diseases-condi...</td>\n",
       "      <td>Expert Blog Posts   March 15, 2017 Family meal...</td>\n",
       "    </tr>\n",
       "    <tr>\n",
       "      <th>734</th>\n",
       "      <td>\\n\\n\\n\\n           Weight loss before pregnanc...</td>\n",
       "      <td>http://www.mayoclinic.org/es-es/healthy-lifest...</td>\n",
       "      <td>Pregnancy and you blog  Weight loss before pre...</td>\n",
       "    </tr>\n",
       "    <tr>\n",
       "      <th>735</th>\n",
       "      <td>\\n\\n\\n\\n           Fitness Noticias de la Mayo...</td>\n",
       "      <td>http://www.mayoclinic.org/es-es/healthy-lifest...</td>\n",
       "      <td>News marzo 2017Infographic: Basketball injury ...</td>\n",
       "    </tr>\n",
       "  </tbody>\n",
       "</table>\n",
       "<p>2359 rows × 3 columns</p>\n",
       "</div>"
      ],
      "text/plain": [
       "                                                     0  \\\n",
       "0             Mini-Reviews – Nutrition (various books)   \n",
       "1    Nutrition for mom while pregnant & breastfeedi...   \n",
       "2    Will breastfeeding affect the nutrition of my ...   \n",
       "3                 Nutrition for Breastfeeding Toddlers   \n",
       "4                         Meet Our Sponsor: Theralogix   \n",
       "5                       Meet Our Sponsor: pumpspotting   \n",
       "6    A message from our sponsor: Doing Our Part for...   \n",
       "7                         Meet Our Sponsor: Theralogix   \n",
       "8    Vitamin D and Breastfeeding: An interview with...   \n",
       "9           What do I need to know about the WHO Code?   \n",
       "10             Breastfeeding the Type 1 Diabetic Child   \n",
       "11         What does a breastfeeding mother look like?   \n",
       "12   What do health authorities say about breastfee...   \n",
       "13           Häufig gestellte Fragen zum Tandemstillen   \n",
       "14   Breastfeeding During Pregnancy and Tandem Nurs...   \n",
       "15   Is baby ready for solid foods? (What do the ex...   \n",
       "16   How do I determine if a medication is safe for...   \n",
       "17   Why Keep Infant Formula Marketing Out of Healt...   \n",
       "18   Infant Formula Corporations Have Violated Worl...   \n",
       "19                          When will my milk come in?   \n",
       "20                                       Milk Bank FAQ   \n",
       "21                         Perceived Insufficient Milk   \n",
       "22   My power went out and I have breastmilk in the...   \n",
       "23       Lactation After the Loss of a Baby: Resources   \n",
       "24             Maternity Leave and Breastfeeding Rates   \n",
       "25      A Comparison of Breastfeeding Rates by Country   \n",
       "26                    Childcare and the Breastfed Baby   \n",
       "27                 Mother-2-Mother Concerns: Fussiness   \n",
       "28   Insurance Reimbursement of Breast Pumps – Samp...   \n",
       "29                             Evidence-Based Practice   \n",
       "..                                                 ...   \n",
       "648  \\n\\n\\n\\n           Publications - Mayo Clinic ...   \n",
       "649  \\n\\n\\n\\n           Publications - Mayo Clinic ...   \n",
       "651  \\n\\n\\n\\n           Nacimiento prematuro Síntom...   \n",
       "653  \\n\\n\\n\\n           Publications - Mayo Clinic ...   \n",
       "654  \\n\\n\\n\\n           Publications - Mayo Clinic ...   \n",
       "655  \\n\\n\\n\\n           Publications - Mayo Clinic ...   \n",
       "656  \\n\\n\\n\\n           Publications - Mayo Clinic ...   \n",
       "657  \\n\\n\\n\\n           Publications - Mayo Clinic ...   \n",
       "658  \\n\\n\\n\\n           Publications - Mayo Clinic ...   \n",
       "659  \\n\\n\\n\\n           Publications - Mayo Clinic ...   \n",
       "660  \\n\\n\\n\\n           Publications - Mayo Clinic ...   \n",
       "664  \\n\\n\\n\\n           Publications - Mayo Clinic ...   \n",
       "667  \\n\\n\\n\\n           Genomics study targets wome...   \n",
       "669  \\n\\n\\n\\n           Take time to understand dia...   \n",
       "673  \\n\\n\\n\\n           Nacimiento prematuro Preven...   \n",
       "676  \\n\\n\\n\\n           Why you should be tested fo...   \n",
       "677  \\n\\n\\n\\n           Publications - Mayo Clinic ...   \n",
       "685  \\n\\n\\n\\n           Integrative approaches to t...   \n",
       "687  \\n\\n\\n\\n           Nacimiento prematuro Cómo p...   \n",
       "688  \\n\\n\\n\\n           Nacimiento prematuro Modo d...   \n",
       "698  \\n\\n\\n\\n           Nacimiento prematuro Tratam...   \n",
       "700  \\n\\n\\n\\n           Mediators of insulin resist...   \n",
       "701  \\n\\n\\n\\n           Publications - Mayo Clinic ...   \n",
       "704  \\n\\n\\n\\n           Nacimiento prematuro Compli...   \n",
       "715  \\n\\n\\n\\n           Publications - Mayo Clinic ...   \n",
       "725  \\n\\n\\n\\n           Publications - Mayo Clinic ...   \n",
       "730  \\n\\n\\n\\n           Estilo de Vida Saludable - ...   \n",
       "731  \\n\\n\\n\\n           Obesidad Blog de expertos -...   \n",
       "734  \\n\\n\\n\\n           Weight loss before pregnanc...   \n",
       "735  \\n\\n\\n\\n           Fitness Noticias de la Mayo...   \n",
       "\n",
       "                                                     1  \\\n",
       "0    http://kellymom.com/parenting/reviews/reviews_...   \n",
       "1       http://kellymom.com/tandem-faq/04momnutrition/   \n",
       "2     http://kellymom.com/tandem-faq/03fetalnutrition/   \n",
       "3    http://kellymom.com/nutrition/starting-solids/...   \n",
       "4    http://kellymom.com/current-sponsor/meet-spons...   \n",
       "5    http://kellymom.com/sponsors/meet-sponsor-pump...   \n",
       "6    http://kellymom.com/sponsors/message-sponsor-p...   \n",
       "7    http://kellymom.com/sponsors/meet-our-sponsor-...   \n",
       "8    http://kellymom.com/nutrition/vitamins/vitamin...   \n",
       "9    http://kellymom.com/bf/advocacy/what-do-i-need...   \n",
       "10   http://kellymom.com/health/baby-health/breastf...   \n",
       "11   http://kellymom.com/bf/normal/picture-of-success/   \n",
       "12   http://kellymom.com/ages/after12mo/aap-breastf...   \n",
       "13   http://kellymom.com/translatation/german/haufi...   \n",
       "14   http://kellymom.com/ages/tandem/official-tande...   \n",
       "15   http://kellymom.com/ages/older-infant/delay-so...   \n",
       "16           http://kellymom.com/hot-topics/med-risks/   \n",
       "17   http://kellymom.com/blog-post/why-keep-infant-...   \n",
       "18   http://kellymom.com/bf/advocacy/infant-formula...   \n",
       "19   http://kellymom.com/ages/newborn/when-will-my-...   \n",
       "20   http://kellymom.com/ages/bf-preemie/milk-bank-...   \n",
       "21   http://kellymom.com/bf/got-milk/perceived-insu...   \n",
       "22   http://kellymom.com/hot-topics/frozen-milk-pow...   \n",
       "23   http://kellymom.com/bf/concerns/mother/lactati...   \n",
       "24   http://kellymom.com/blog-post/maternity-leave-...   \n",
       "25       http://kellymom.com/fun/trivia/bf-rates-2004/   \n",
       "26   http://kellymom.com/bf/pumpingmoms/employed-mo...   \n",
       "27    http://kellymom.com/mother2mother/m2m-fussiness/   \n",
       "28   http://kellymom.com/mother2mother/insurance-re...   \n",
       "29   http://kellymom.com/about/evidence-based-pract...   \n",
       "..                                                 ...   \n",
       "648  http://www.mayo.edu/research/searchpublication...   \n",
       "649  http://www.mayo.edu/research/searchpublication...   \n",
       "651  http://www.mayoclinic.org/es-es/diseases-condi...   \n",
       "653  http://www.mayo.edu/research/searchpublication...   \n",
       "654  http://www.mayo.edu/research/searchpublication...   \n",
       "655  http://www.mayo.edu/research/searchpublication...   \n",
       "656  http://www.mayo.edu/research/searchpublication...   \n",
       "657  http://www.mayo.edu/research/searchpublication...   \n",
       "658  http://www.mayo.edu/research/searchpublication...   \n",
       "659  http://www.mayo.edu/research/searchpublication...   \n",
       "660  http://www.mayo.edu/research/searchpublication...   \n",
       "664  http://www.mayo.edu/research/searchpublication...   \n",
       "667  http://www.mayoclinic.org/diseases-conditions/...   \n",
       "669  http://www.mayoclinic.org/diseases-conditions/...   \n",
       "673  http://www.mayoclinic.org/es-es/diseases-condi...   \n",
       "676  http://www.mayoclinic.org/diseases-conditions/...   \n",
       "677  http://www.mayo.edu/research/searchpublication...   \n",
       "685  http://www.mayo.edu/integrative-approaches-to-...   \n",
       "687  http://www.mayoclinic.org/es-es/diseases-condi...   \n",
       "688  http://www.mayoclinic.org/es-es/diseases-condi...   \n",
       "698  http://www.mayoclinic.org/es-es/diseases-condi...   \n",
       "700  http://www.mayo.edu/research/clinical-trials/c...   \n",
       "701  http://www.mayo.edu/research/searchpublication...   \n",
       "704  http://www.mayoclinic.org/es-es/diseases-condi...   \n",
       "715  http://www.mayo.edu/research/searchpublication...   \n",
       "725  http://www.mayo.edu/research/searchpublication...   \n",
       "730  http://www.mayoclinic.org/es-es/healthy-lifestyle   \n",
       "731  http://www.mayoclinic.org/es-es/diseases-condi...   \n",
       "734  http://www.mayoclinic.org/es-es/healthy-lifest...   \n",
       "735  http://www.mayoclinic.org/es-es/healthy-lifest...   \n",
       "\n",
       "                                                     2  \n",
       "0    Child of Mine: Feeding With Love and Good Sens...  \n",
       "1    Special Dietary Considerations (Nursing & preg...  \n",
       "2    This concern is valid for malnourished mothers...  \n",
       "3    DeutschIt seems that all the the information I...  \n",
       "4    Our sponsor for the month is Theralogix. They ...  \n",
       "5    Our sponsor for the month is pumpspotting, an ...  \n",
       "6    Our sponsor for the month is AmedabyRen R. Fis...  \n",
       "7    Our sponsor for the month is Theralogix, maker...  \n",
       "8    Dr. Bruce Hollis is the lead author of a 2015s...  \n",
       "9    Publications from www.ibfan-icdc.orgThe WHO Co...  \n",
       "10   by Erin Hayden-Baldauf, MSEd, IBCLC, CD(DONA)I...  \n",
       "11   By Kelly Bonyata, BS, IBCLCWhen you hear breas...  \n",
       "12   Julia Shilova - Fotolia.comThe World Health Or...  \n",
       "13   Image credit: Mothering Touch on flickrKelly B...  \n",
       "14   Image credit: Mothering Touch on flickrKelly B...  \n",
       "15   Image courtesy of imagerymajestic / FreeDigita...  \n",
       "16   Have you ever been told you need to stop breas...  \n",
       "17   There are a number of common objections I hear...  \n",
       "18   Eva Seidelman, Public Citizen33 years ago toda...  \n",
       "19   Image credit: RaphaelGoetter on flickrMilk pro...  \n",
       "20   When we talk about human milk banks in North A...  \n",
       "21   by Diana Cassar-Uhl, MPH, IBCLCImage credit: j...  \n",
       "22   Credit: NASA/GSFC/Jeff Schmaltz/MODIS Land Rap...  \n",
       "23   Resources for mothers who are lactating and we...  \n",
       "24   Maternity Leave and Breastfeeding RatesHeres a...  \n",
       "25   Ever wonder how breastfeeding rates compare fr...  \n",
       "26   Image credit: e_chaya on flickrResources on ch...  \n",
       "27   Reprinted from Mother-2-Mother.com (2000-2006)...  \n",
       "28   Reprinted from Mother-2-Mother.com (2000-2006)...  \n",
       "29   Following are some useful links on evidence-ba...  \n",
       "..                                                 ...  \n",
       "648  Publications   Safarova MS, Klee EW, Baudhuin ...  \n",
       "649  Publications   Ratuapli SK, Thind K, Fleischer...  \n",
       "651  SymptomsBy Mayo Clinic Staff   Un parto premat...  \n",
       "653  Publications   Ranadive SM, Harvey RE, Lahr BD...  \n",
       "654  Publications   Moris M, Raimondo M, Woodward T...  \n",
       "655  Publications   He T, Santhanam AV, Lu T, d'Usc...  \n",
       "656  Publications   Australian Ovarian Cancer Study...  \n",
       "657  Publications   Le-Rademacher J, Hillman SL, Me...  \n",
       "658  Publications   LUNG SAFE Investigators//ESICM ...  \n",
       "659  Publications   Norambuena GA, Patel R, Karau M...  \n",
       "660  Publications   Sharma A, Baumann NA, Shah P. B...  \n",
       "664  Publications   Busis NA, Shanafelt TD, Keran C...  \n",
       "667  Living with cancer blog  Genomics study target...  \n",
       "669  Living with diabetes blog  Take time to unders...  \n",
       "673  PreventionBy Mayo Clinic Staff   Aunque la cau...  \n",
       "676  Living with diabetes blog  Why you should be t...  \n",
       "677  Publications   Threadcraft M, Fouad L, Bruce A...  \n",
       "685  Integrative approaches to treating pain   You'...  \n",
       "687  Preparing for your appointmentBy Mayo Clinic S...  \n",
       "688  Lifestyle and home remediesBy Mayo Clinic Staf...  \n",
       "698  Treatments and drugsBy Mayo Clinic Staff  Cons...  \n",
       "700  OverviewStudy typeObservationalStudy IDsStudy ...  \n",
       "701  Publications   Short JH, Bradley C, Blair JE, ...  \n",
       "704  ComplicationsBy Mayo Clinic Staff   Si bien no...  \n",
       "715  Publications   Krause ML, Elrashidi MY, Halvor...  \n",
       "725  Publications   Bodelon C, Oh H, Chatterjee N, ...  \n",
       "730  Informacin y herramientas para un estilo de vi...  \n",
       "731  Expert Blog Posts   March 15, 2017 Family meal...  \n",
       "734  Pregnancy and you blog  Weight loss before pre...  \n",
       "735  News marzo 2017Infographic: Basketball injury ...  \n",
       "\n",
       "[2359 rows x 3 columns]"
      ]
     },
     "execution_count": 86,
     "metadata": {},
     "output_type": "execute_result"
    }
   ],
   "source": [
    "uniques.dropna(subset=[2])"
   ]
  },
  {
   "cell_type": "code",
   "execution_count": 92,
   "metadata": {
    "collapsed": false
   },
   "outputs": [],
   "source": [
    "uniques = uniques.rename(index=str, columns={0: \"title\", 1: \"link\", 2: 'content'})"
   ]
  },
  {
   "cell_type": "code",
   "execution_count": 7,
   "metadata": {
    "collapsed": false
   },
   "outputs": [
    {
     "data": {
      "text/html": [
       "<div>\n",
       "<table border=\"1\" class=\"dataframe\">\n",
       "  <thead>\n",
       "    <tr style=\"text-align: right;\">\n",
       "      <th></th>\n",
       "      <th>Unnamed: 0</th>\n",
       "      <th>title</th>\n",
       "      <th>link</th>\n",
       "      <th>content</th>\n",
       "    </tr>\n",
       "  </thead>\n",
       "  <tbody>\n",
       "    <tr>\n",
       "      <th>0</th>\n",
       "      <td>0</td>\n",
       "      <td>Mini-Reviews – Nutrition (various books)</td>\n",
       "      <td>http://kellymom.com/parenting/reviews/reviews_...</td>\n",
       "      <td>Child of Mine: Feeding With Love and Good Sens...</td>\n",
       "    </tr>\n",
       "    <tr>\n",
       "      <th>1</th>\n",
       "      <td>1</td>\n",
       "      <td>Nutrition for mom while pregnant &amp; breastfeedi...</td>\n",
       "      <td>http://kellymom.com/tandem-faq/04momnutrition/</td>\n",
       "      <td>Special Dietary Considerations (Nursing &amp; preg...</td>\n",
       "    </tr>\n",
       "    <tr>\n",
       "      <th>2</th>\n",
       "      <td>2</td>\n",
       "      <td>Will breastfeeding affect the nutrition of my ...</td>\n",
       "      <td>http://kellymom.com/tandem-faq/03fetalnutrition/</td>\n",
       "      <td>This concern is valid for malnourished mothers...</td>\n",
       "    </tr>\n",
       "    <tr>\n",
       "      <th>3</th>\n",
       "      <td>3</td>\n",
       "      <td>Nutrition for Breastfeeding Toddlers</td>\n",
       "      <td>http://kellymom.com/nutrition/starting-solids/...</td>\n",
       "      <td>DeutschIt seems that all the the information I...</td>\n",
       "    </tr>\n",
       "    <tr>\n",
       "      <th>4</th>\n",
       "      <td>4</td>\n",
       "      <td>Meet Our Sponsor: Theralogix</td>\n",
       "      <td>http://kellymom.com/current-sponsor/meet-spons...</td>\n",
       "      <td>Our sponsor for the month is Theralogix. They ...</td>\n",
       "    </tr>\n",
       "  </tbody>\n",
       "</table>\n",
       "</div>"
      ],
      "text/plain": [
       "   Unnamed: 0                                              title  \\\n",
       "0           0           Mini-Reviews – Nutrition (various books)   \n",
       "1           1  Nutrition for mom while pregnant & breastfeedi...   \n",
       "2           2  Will breastfeeding affect the nutrition of my ...   \n",
       "3           3               Nutrition for Breastfeeding Toddlers   \n",
       "4           4                       Meet Our Sponsor: Theralogix   \n",
       "\n",
       "                                                link  \\\n",
       "0  http://kellymom.com/parenting/reviews/reviews_...   \n",
       "1     http://kellymom.com/tandem-faq/04momnutrition/   \n",
       "2   http://kellymom.com/tandem-faq/03fetalnutrition/   \n",
       "3  http://kellymom.com/nutrition/starting-solids/...   \n",
       "4  http://kellymom.com/current-sponsor/meet-spons...   \n",
       "\n",
       "                                             content  \n",
       "0  Child of Mine: Feeding With Love and Good Sens...  \n",
       "1  Special Dietary Considerations (Nursing & preg...  \n",
       "2  This concern is valid for malnourished mothers...  \n",
       "3  DeutschIt seems that all the the information I...  \n",
       "4  Our sponsor for the month is Theralogix. They ...  "
      ]
     },
     "execution_count": 7,
     "metadata": {},
     "output_type": "execute_result"
    }
   ],
   "source": [
    "uniques.head()"
   ]
  },
  {
   "cell_type": "code",
   "execution_count": 10,
   "metadata": {
    "collapsed": true
   },
   "outputs": [],
   "source": [
    "!touch ../data/corpus.csv"
   ]
  },
  {
   "cell_type": "code",
   "execution_count": 94,
   "metadata": {
    "collapsed": true
   },
   "outputs": [],
   "source": [
    "uniques.to_csv('../data/corpus.csv')"
   ]
  },
  {
   "cell_type": "code",
   "execution_count": 12,
   "metadata": {
    "collapsed": true
   },
   "outputs": [],
   "source": [
    "df16 = pd.read_csv('../data/beachbody.csv', header=None)\n",
    "df17 = pd.read_csv('../data/bodybuilding.csv', header=None)\n",
    "df18 = pd.read_csv('../data/davidperl.csv', header=None)\n",
    "df19 = pd.read_csv('../data/foodbabe.csv', header=None)\n",
    "dfnatural = pd.read_csv('../data/naturalterrain.csv', header=None)\n",
    "df_weston = pd.read_csv('../data/weston.csv', header=None)\n"
   ]
  },
  {
   "cell_type": "code",
   "execution_count": 13,
   "metadata": {
    "collapsed": false
   },
   "outputs": [
    {
     "data": {
      "text/html": [
       "<div>\n",
       "<table border=\"1\" class=\"dataframe\">\n",
       "  <thead>\n",
       "    <tr style=\"text-align: right;\">\n",
       "      <th></th>\n",
       "      <th>0</th>\n",
       "      <th>1</th>\n",
       "      <th>2</th>\n",
       "    </tr>\n",
       "  </thead>\n",
       "  <tbody>\n",
       "    <tr>\n",
       "      <th>count</th>\n",
       "      <td>709</td>\n",
       "      <td>708</td>\n",
       "      <td>682</td>\n",
       "    </tr>\n",
       "    <tr>\n",
       "      <th>unique</th>\n",
       "      <td>702</td>\n",
       "      <td>706</td>\n",
       "      <td>677</td>\n",
       "    </tr>\n",
       "    <tr>\n",
       "      <th>top</th>\n",
       "      <td>\\nDoes Breastfeeding Really Help You Lose Weig...</td>\n",
       "      <td>https://www.teambeachbody.com/teambeachbodyblo...</td>\n",
       "      <td>Over the past several decades, many infants ha...</td>\n",
       "    </tr>\n",
       "    <tr>\n",
       "      <th>freq</th>\n",
       "      <td>2</td>\n",
       "      <td>2</td>\n",
       "      <td>2</td>\n",
       "    </tr>\n",
       "  </tbody>\n",
       "</table>\n",
       "</div>"
      ],
      "text/plain": [
       "                                                        0  \\\n",
       "count                                                 709   \n",
       "unique                                                702   \n",
       "top     \\nDoes Breastfeeding Really Help You Lose Weig...   \n",
       "freq                                                    2   \n",
       "\n",
       "                                                        1  \\\n",
       "count                                                 708   \n",
       "unique                                                706   \n",
       "top     https://www.teambeachbody.com/teambeachbodyblo...   \n",
       "freq                                                    2   \n",
       "\n",
       "                                                        2  \n",
       "count                                                 682  \n",
       "unique                                                677  \n",
       "top     Over the past several decades, many infants ha...  \n",
       "freq                                                    2  "
      ]
     },
     "execution_count": 13,
     "metadata": {},
     "output_type": "execute_result"
    }
   ],
   "source": [
    "false = [df16, df17, df18, df19, dfnatural, df_weston]\n",
    "false_claims = pd.concat(false)\n",
    "false_claims.to_csv('../data/false_corpus.csv')\n",
    "false_claims.describe()"
   ]
  },
  {
   "cell_type": "code",
   "execution_count": null,
   "metadata": {
    "collapsed": true
   },
   "outputs": [],
   "source": []
  },
  {
   "cell_type": "code",
   "execution_count": 14,
   "metadata": {
    "collapsed": false
   },
   "outputs": [],
   "source": []
  },
  {
   "cell_type": "code",
   "execution_count": 15,
   "metadata": {
    "collapsed": true
   },
   "outputs": [],
   "source": [
    "#didn't use yet\n",
    "from pymongo import MongoClient\n",
    "\n",
    "client = MongoClient()\n",
    "db = client.nutrition\n",
    "coll = db.articles\n",
    "documents = ['\\n'.join(uniques[2]) for article in coll.find()]"
   ]
  },
  {
   "cell_type": "code",
   "execution_count": null,
   "metadata": {
    "collapsed": true
   },
   "outputs": [],
   "source": []
  },
  {
   "cell_type": "code",
   "execution_count": null,
   "metadata": {
    "collapsed": false
   },
   "outputs": [],
   "source": []
  },
  {
   "cell_type": "markdown",
   "metadata": {},
   "source": [
    "# Data Cleaning"
   ]
  },
  {
   "cell_type": "code",
   "execution_count": 5,
   "metadata": {
    "collapsed": false
   },
   "outputs": [],
   "source": [
    "uniques = pd.read_csv('../data/corpus.csv')"
   ]
  },
  {
   "cell_type": "code",
   "execution_count": 98,
   "metadata": {
    "collapsed": false
   },
   "outputs": [],
   "source": [
    "uniques = uniques.drop('Unnamed: 0', axis=1)"
   ]
  },
  {
   "cell_type": "code",
   "execution_count": 16,
   "metadata": {
    "collapsed": false
   },
   "outputs": [],
   "source": [
    "def stem(content, stemmer ='snowball' ):\n",
    "    content_clean = str(content).decode('utf-8', errors='ignore').encode('ascii',errors='ignore').replace('\\n', ' ')   \n",
    "    if stemmer=='snowball':\n",
    "        stemmed = [snowball.stem(word) for word in content_clean.split(' ')]\n",
    "    return ' '.join(stemmed)"
   ]
  },
  {
   "cell_type": "code",
   "execution_count": 17,
   "metadata": {
    "collapsed": false
   },
   "outputs": [],
   "source": [
    "uniques['stemmed_content'] = uniques['content'].apply(stem)"
   ]
  },
  {
   "cell_type": "code",
   "execution_count": 18,
   "metadata": {
    "collapsed": false
   },
   "outputs": [],
   "source": [
    "# decode unicode into ascii \n",
    "true_content_clean = []\n",
    "for item in string_list:\n",
    "    true_content_clean.append(item.decode('utf-8').encode('ascii','ignore').replace('\\n', ' '))\n",
    "\n",
    "false_content_clean = []\n",
    "for item in false_string_list:\n",
    "    false_content_clean.append(item.decode('utf-8').encode('ascii','ignore').replace('\\n', ' '))"
   ]
  },
  {
   "cell_type": "code",
   "execution_count": 21,
   "metadata": {
    "collapsed": false
   },
   "outputs": [],
   "source": [
    "#tokenize (is this the same as below?)\n",
    "tokenized = [word_tokenize(content.lower()) for content in true_content_clean]\n",
    "false_tokens = [word_tokenize(content.lower()) for content in false_content_clean]"
   ]
  },
  {
   "cell_type": "code",
   "execution_count": 22,
   "metadata": {
    "collapsed": false
   },
   "outputs": [],
   "source": [
    "#remove stopwords. Don't need this if also removing stopwords during TF-IDF\n",
    "stop = set(stopwords.words('english'))\n",
    "docs = [[word for word in words if word not in stop]\n",
    "        for words in tokenized]\n"
   ]
  },
  {
   "cell_type": "code",
   "execution_count": 23,
   "metadata": {
    "collapsed": false
   },
   "outputs": [],
   "source": [
    "#stem all the rows!\n",
    "stemmed_rows = []\n",
    "for line in tokenized:\n",
    "    stemmed = [snowball.stem(word) for word in line]\n",
    "    stemmed_rows.append(stemmed)\n",
    "    \n",
    "false_stemmed_rows = []\n",
    "for line in false_tokens:\n",
    "    stemmed = [snowball.stem(word) for word in line]\n",
    "    false_stemmed_rows.append(stemmed)"
   ]
  },
  {
   "cell_type": "code",
   "execution_count": 24,
   "metadata": {
    "collapsed": false
   },
   "outputs": [],
   "source": [
    "content_stemmed = []\n",
    "for row in stemmed_rows:\n",
    "    content_stemmed.append(' '.join(row))\n",
    "    \n",
    "false_content_stemmed = []\n",
    "for row in false_stemmed_rows:\n",
    "    false_content_stemmed.append(' '.join(row))"
   ]
  },
  {
   "cell_type": "code",
   "execution_count": 18,
   "metadata": {
    "collapsed": true
   },
   "outputs": [],
   "source": [
    "from nltk.corpus import stopwords\n",
    "stop = set(stopwords.words('english'))\n",
    "html_stopwords = [\"span\", 'vm', 'hook', 'class', 'strong', 'href', 'style', 'rgb', \n",
    "                  'transpar', '153', 'br', 'strong', 'span', 'com', 'vm', 'img', 'http', 'zzzzzzzzzzzz']\n",
    "stop.update(html_stopwords)\n"
   ]
  },
  {
   "cell_type": "markdown",
   "metadata": {},
   "source": [
    "# KMeans Clustering"
   ]
  },
  {
   "cell_type": "code",
   "execution_count": 116,
   "metadata": {
    "collapsed": false
   },
   "outputs": [],
   "source": [
    "Tfid = TfidfVectorizer(stop_words=stop, max_features=20000)\n",
    "# TFid_false = TfidfVectorizer(stop_words=stop,)"
   ]
  },
  {
   "cell_type": "code",
   "execution_count": 117,
   "metadata": {
    "collapsed": false
   },
   "outputs": [],
   "source": [
    "true_sparse_matrix = Tfid.fit_transform(uniques['stemmed_content'])\n",
    "# false_sparse_matrix = TFid_false.fit_transform(false_content_stemmed)"
   ]
  },
  {
   "cell_type": "code",
   "execution_count": 118,
   "metadata": {
    "collapsed": true
   },
   "outputs": [],
   "source": [
    "true_features = Tfid.get_feature_names()\n",
    "# false_features = TFid_false.get_feature_names()"
   ]
  },
  {
   "cell_type": "code",
   "execution_count": 119,
   "metadata": {
    "collapsed": false
   },
   "outputs": [],
   "source": [
    "km_true = KMeans(n_clusters=20)\n",
    "# km_false = KMeans(n_clusters = 10)"
   ]
  },
  {
   "cell_type": "code",
   "execution_count": 120,
   "metadata": {
    "collapsed": false
   },
   "outputs": [
    {
     "data": {
      "text/plain": [
       "KMeans(algorithm='auto', copy_x=True, init='k-means++', max_iter=300,\n",
       "    n_clusters=20, n_init=10, n_jobs=1, precompute_distances='auto',\n",
       "    random_state=None, tol=0.0001, verbose=0)"
      ]
     },
     "execution_count": 120,
     "metadata": {},
     "output_type": "execute_result"
    }
   ],
   "source": [
    "km_true.fit(true_sparse_matrix)\n",
    "# km_false.fit(false_sparse_matrix)"
   ]
  },
  {
   "cell_type": "code",
   "execution_count": 121,
   "metadata": {
    "collapsed": false
   },
   "outputs": [
    {
     "name": "stdout",
     "output_type": "stream",
     "text": [
      "top features for each cluster:\n",
      "0: edit, modul, stone, 2013, soup, moduleshow, food, 2014, 2015, tag\n",
      "1: de, vheight, retri, setsizeiframe, inputs, funct, var, positionmobilead, monografa, settimeout\n",
      "2: child, kid, children, food, make, eat, parti, get, like, toddler\n",
      "3: em, color, www, target, _blank, display, food, parenting, border, icon\n",
      "4: breastfeed, mother, milk, nurs, infant, breastfeeding, lactat, babi, breast, mom\n",
      "5: gram, cup, teaspoon, nutrientsnutri, time, swinney, bridget, minutescook, minutestot, cook\n",
      "6: vitamin, iron, supplement, calcium, need, babi, diet, get, recommend, food\n",
      "7: pubm, view, epub, ja, cancer, clin, mar, dec, rj, jm\n",
      "8: el, de, durant, embarazo, la, en, los, para, del, que\n",
      "9: fish, fat, eat, food, omega, ounc, protein, calori, healthi, diet\n",
      "10: de, la, para, el, en, los, del, que, las, un\n",
      "11: food, babi, nutrit, raw, eat, academi, foods, nutritionist, meat, cook\n",
      "12: babi, modal, window, time, close, set, rate1chapterschaptersdescript, serifmonospac, 00progress, selecteddescriptionssubtitl\n",
      "13: de, la, presin, para, arterial, el, los, en, arteri, alta\n",
      "14: cup, tablespoon, add, cook, serv, fruit, fat, slice, chicken, teaspoon\n",
      "15: pregnancy, pregnanc, blood, dure, women, weight, pregnant, may, babi, gain\n",
      "16: sleep, babi, mom, time, parent, get, feel, babycent, nurs, night\n",
      "17: babi, milk, formula, nurs, feed, may, doctor, get, solid, sleep\n",
      "18: formula, parenting, babi, infant, images, bottl, www, mdpcdn, width, sites\n",
      "19: milk, breast, babi, pump, nurs, breastfeed, feed, mother, mom, formula\n"
     ]
    }
   ],
   "source": [
    "top_centroids = km_true.cluster_centers_.argsort()[:,-1:-11:-1]\n",
    "print \"top features for each cluster:\"\n",
    "for num, centroid in enumerate(top_centroids):\n",
    "    print \"%d: %s\" % (num, \", \".join(true_features[i] for i in centroid))\n",
    "# print '--------------------------'    \n",
    "# top_false_centroids = km_false.cluster_centers_.argsort()[:,-1:-11:-1]\n",
    "# print \"top features for each cluster:\"\n",
    "# for num, centroid in enumerate(top_false_centroids):\n",
    "#     print \"%d: %s\" % (num, \", \".join(false_features[i] for i in centroid))"
   ]
  },
  {
   "cell_type": "code",
   "execution_count": 122,
   "metadata": {
    "collapsed": false
   },
   "outputs": [
    {
     "data": {
      "text/plain": [
       "(20, 20000)"
      ]
     },
     "execution_count": 122,
     "metadata": {},
     "output_type": "execute_result"
    }
   ],
   "source": [
    "km_true.cluster_centers_.shape\n"
   ]
  },
  {
   "cell_type": "code",
   "execution_count": null,
   "metadata": {
    "collapsed": true
   },
   "outputs": [],
   "source": []
  },
  {
   "cell_type": "code",
   "execution_count": null,
   "metadata": {
    "collapsed": true
   },
   "outputs": [],
   "source": []
  },
  {
   "cell_type": "code",
   "execution_count": null,
   "metadata": {
    "collapsed": true
   },
   "outputs": [],
   "source": []
  },
  {
   "cell_type": "code",
   "execution_count": 123,
   "metadata": {
    "collapsed": false
   },
   "outputs": [],
   "source": [
    "transformed_matrix = km_true.transform(true_sparse_matrix)"
   ]
  },
  {
   "cell_type": "code",
   "execution_count": 88,
   "metadata": {
    "collapsed": false
   },
   "outputs": [
    {
     "name": "stdout",
     "output_type": "stream",
     "text": [
      "0\n",
      "[]\n",
      "0\n",
      "---------------\n",
      "5\n",
      "[ 0.06425572  0.01300228  0.00516335  0.00349167  0.00271304]\n",
      "0.0886260495763\n",
      "---------------\n",
      "10\n",
      "[ 0.06425572  0.01300228  0.00516335  0.00349167  0.00271304  0.00241697\n",
      "  0.00196808  0.0016453   0.00127721  0.00112714]\n",
      "0.0970607459263\n",
      "---------------\n",
      "15\n",
      "[ 0.06425572  0.01300228  0.00516335  0.00349167  0.00271304  0.00241697\n",
      "  0.00196808  0.0016453   0.00127721  0.00112714  0.00103701  0.00093687\n",
      "  0.00078655  0.00055912  0.00048122]\n",
      "0.100861523778\n",
      "---------------\n",
      "20\n",
      "[  6.42557181e-02   1.30022757e-02   5.16335483e-03   3.49166509e-03\n",
      "   2.71303630e-03   2.41696956e-03   1.96807923e-03   1.64530084e-03\n",
      "   1.27720603e-03   1.12714026e-03   1.03701423e-03   9.36872614e-04\n",
      "   7.86549536e-04   5.59123808e-04   4.81217660e-04   4.04010735e-04\n",
      "   2.85733927e-04   1.95030685e-04   1.60891632e-04   6.23235852e-05]\n",
      "0.101969514343\n",
      "---------------\n"
     ]
    }
   ],
   "source": [
    "for i in range(0,21,5):\n",
    "    reduced_data = PCA(n_components=i).fit(transformed_matrix)\n",
    "    print i\n",
    "    print reduced_data.explained_variance_ \n",
    "    print sum(reduced_data.explained_variance_)\n",
    "    print '---------------'"
   ]
  },
  {
   "cell_type": "code",
   "execution_count": 124,
   "metadata": {
    "collapsed": false
   },
   "outputs": [],
   "source": [
    "reduced_data = PCA(n_components=15).fit_transform(transformed_matrix)"
   ]
  },
  {
   "cell_type": "code",
   "execution_count": 135,
   "metadata": {
    "collapsed": false
   },
   "outputs": [
    {
     "data": {
      "text/html": [
       "<div>\n",
       "<table border=\"1\" class=\"dataframe\">\n",
       "  <thead>\n",
       "    <tr style=\"text-align: right;\">\n",
       "      <th></th>\n",
       "      <th>title</th>\n",
       "      <th>link</th>\n",
       "      <th>content</th>\n",
       "      <th>stemmed_content</th>\n",
       "      <th>labels</th>\n",
       "      <th>0</th>\n",
       "      <th>1</th>\n",
       "      <th>2</th>\n",
       "      <th>3</th>\n",
       "      <th>4</th>\n",
       "      <th>5</th>\n",
       "      <th>6</th>\n",
       "      <th>7</th>\n",
       "      <th>8</th>\n",
       "      <th>9</th>\n",
       "      <th>10</th>\n",
       "      <th>11</th>\n",
       "      <th>12</th>\n",
       "      <th>13</th>\n",
       "      <th>14</th>\n",
       "    </tr>\n",
       "  </thead>\n",
       "  <tbody>\n",
       "    <tr>\n",
       "      <th>0</th>\n",
       "      <td>Mini-Reviews – Nutrition (various books)</td>\n",
       "      <td>http://kellymom.com/parenting/reviews/reviews_...</td>\n",
       "      <td>Child of Mine: Feeding With Love and Good Sens...</td>\n",
       "      <td>child of mine: feed with love and good sens by...</td>\n",
       "      <td>15</td>\n",
       "      <td>-0.130720</td>\n",
       "      <td>0.020728</td>\n",
       "      <td>-0.006654</td>\n",
       "      <td>0.013871</td>\n",
       "      <td>-0.010658</td>\n",
       "      <td>0.032917</td>\n",
       "      <td>-0.013200</td>\n",
       "      <td>-0.003879</td>\n",
       "      <td>-0.008841</td>\n",
       "      <td>-0.015568</td>\n",
       "      <td>0.056352</td>\n",
       "      <td>-0.005806</td>\n",
       "      <td>-0.028238</td>\n",
       "      <td>-0.001944</td>\n",
       "      <td>-0.014331</td>\n",
       "    </tr>\n",
       "    <tr>\n",
       "      <th>1</th>\n",
       "      <td>Nutrition for mom while pregnant &amp; breastfeedi...</td>\n",
       "      <td>http://kellymom.com/tandem-faq/04momnutrition/</td>\n",
       "      <td>Special Dietary Considerations (Nursing &amp; preg...</td>\n",
       "      <td>special dietari consider (nurs &amp; pregnant/tand...</td>\n",
       "      <td>4</td>\n",
       "      <td>-0.135578</td>\n",
       "      <td>0.093275</td>\n",
       "      <td>0.010675</td>\n",
       "      <td>-0.036561</td>\n",
       "      <td>0.018046</td>\n",
       "      <td>-0.001289</td>\n",
       "      <td>0.013408</td>\n",
       "      <td>0.068601</td>\n",
       "      <td>-0.010021</td>\n",
       "      <td>-0.001630</td>\n",
       "      <td>-0.015528</td>\n",
       "      <td>0.057505</td>\n",
       "      <td>-0.013909</td>\n",
       "      <td>-0.005552</td>\n",
       "      <td>0.017055</td>\n",
       "    </tr>\n",
       "    <tr>\n",
       "      <th>2</th>\n",
       "      <td>Will breastfeeding affect the nutrition of my ...</td>\n",
       "      <td>http://kellymom.com/tandem-faq/03fetalnutrition/</td>\n",
       "      <td>This concern is valid for malnourished mothers...</td>\n",
       "      <td>this concern is valid for malnourish mothers, ...</td>\n",
       "      <td>4</td>\n",
       "      <td>-0.113776</td>\n",
       "      <td>0.001904</td>\n",
       "      <td>-0.000726</td>\n",
       "      <td>-0.049674</td>\n",
       "      <td>0.003574</td>\n",
       "      <td>-0.024180</td>\n",
       "      <td>0.019107</td>\n",
       "      <td>0.036850</td>\n",
       "      <td>-0.008204</td>\n",
       "      <td>0.002296</td>\n",
       "      <td>-0.011848</td>\n",
       "      <td>0.031448</td>\n",
       "      <td>-0.002919</td>\n",
       "      <td>0.003951</td>\n",
       "      <td>0.020800</td>\n",
       "    </tr>\n",
       "    <tr>\n",
       "      <th>3</th>\n",
       "      <td>Nutrition for Breastfeeding Toddlers</td>\n",
       "      <td>http://kellymom.com/nutrition/starting-solids/...</td>\n",
       "      <td>DeutschIt seems that all the the information I...</td>\n",
       "      <td>deutschit seem that all the the inform i see r...</td>\n",
       "      <td>18</td>\n",
       "      <td>-0.175827</td>\n",
       "      <td>0.252231</td>\n",
       "      <td>0.014519</td>\n",
       "      <td>0.020313</td>\n",
       "      <td>-0.009048</td>\n",
       "      <td>-0.013558</td>\n",
       "      <td>0.007942</td>\n",
       "      <td>0.053899</td>\n",
       "      <td>-0.032752</td>\n",
       "      <td>-0.018601</td>\n",
       "      <td>0.023989</td>\n",
       "      <td>-0.016437</td>\n",
       "      <td>-0.064566</td>\n",
       "      <td>-0.008332</td>\n",
       "      <td>-0.035577</td>\n",
       "    </tr>\n",
       "    <tr>\n",
       "      <th>4</th>\n",
       "      <td>Meet Our Sponsor: Theralogix</td>\n",
       "      <td>http://kellymom.com/current-sponsor/meet-spons...</td>\n",
       "      <td>Our sponsor for the month is Theralogix. They ...</td>\n",
       "      <td>our sponsor for the month is theralogix. they ...</td>\n",
       "      <td>3</td>\n",
       "      <td>-0.122390</td>\n",
       "      <td>0.060123</td>\n",
       "      <td>0.006550</td>\n",
       "      <td>-0.018355</td>\n",
       "      <td>0.037109</td>\n",
       "      <td>-0.013618</td>\n",
       "      <td>-0.009886</td>\n",
       "      <td>0.070199</td>\n",
       "      <td>-0.016931</td>\n",
       "      <td>0.001120</td>\n",
       "      <td>-0.044593</td>\n",
       "      <td>0.012794</td>\n",
       "      <td>0.007629</td>\n",
       "      <td>0.011226</td>\n",
       "      <td>-0.034459</td>\n",
       "    </tr>\n",
       "  </tbody>\n",
       "</table>\n",
       "</div>"
      ],
      "text/plain": [
       "                                               title  \\\n",
       "0           Mini-Reviews – Nutrition (various books)   \n",
       "1  Nutrition for mom while pregnant & breastfeedi...   \n",
       "2  Will breastfeeding affect the nutrition of my ...   \n",
       "3               Nutrition for Breastfeeding Toddlers   \n",
       "4                       Meet Our Sponsor: Theralogix   \n",
       "\n",
       "                                                link  \\\n",
       "0  http://kellymom.com/parenting/reviews/reviews_...   \n",
       "1     http://kellymom.com/tandem-faq/04momnutrition/   \n",
       "2   http://kellymom.com/tandem-faq/03fetalnutrition/   \n",
       "3  http://kellymom.com/nutrition/starting-solids/...   \n",
       "4  http://kellymom.com/current-sponsor/meet-spons...   \n",
       "\n",
       "                                             content  \\\n",
       "0  Child of Mine: Feeding With Love and Good Sens...   \n",
       "1  Special Dietary Considerations (Nursing & preg...   \n",
       "2  This concern is valid for malnourished mothers...   \n",
       "3  DeutschIt seems that all the the information I...   \n",
       "4  Our sponsor for the month is Theralogix. They ...   \n",
       "\n",
       "                                     stemmed_content  labels         0  \\\n",
       "0  child of mine: feed with love and good sens by...      15 -0.130720   \n",
       "1  special dietari consider (nurs & pregnant/tand...       4 -0.135578   \n",
       "2  this concern is valid for malnourish mothers, ...       4 -0.113776   \n",
       "3  deutschit seem that all the the inform i see r...      18 -0.175827   \n",
       "4  our sponsor for the month is theralogix. they ...       3 -0.122390   \n",
       "\n",
       "          1         2         3         4         5         6         7  \\\n",
       "0  0.020728 -0.006654  0.013871 -0.010658  0.032917 -0.013200 -0.003879   \n",
       "1  0.093275  0.010675 -0.036561  0.018046 -0.001289  0.013408  0.068601   \n",
       "2  0.001904 -0.000726 -0.049674  0.003574 -0.024180  0.019107  0.036850   \n",
       "3  0.252231  0.014519  0.020313 -0.009048 -0.013558  0.007942  0.053899   \n",
       "4  0.060123  0.006550 -0.018355  0.037109 -0.013618 -0.009886  0.070199   \n",
       "\n",
       "          8         9        10        11        12        13        14  \n",
       "0 -0.008841 -0.015568  0.056352 -0.005806 -0.028238 -0.001944 -0.014331  \n",
       "1 -0.010021 -0.001630 -0.015528  0.057505 -0.013909 -0.005552  0.017055  \n",
       "2 -0.008204  0.002296 -0.011848  0.031448 -0.002919  0.003951  0.020800  \n",
       "3 -0.032752 -0.018601  0.023989 -0.016437 -0.064566 -0.008332 -0.035577  \n",
       "4 -0.016931  0.001120 -0.044593  0.012794  0.007629  0.011226 -0.034459  "
      ]
     },
     "execution_count": 135,
     "metadata": {},
     "output_type": "execute_result"
    }
   ],
   "source": [
    "coordinates = pd.DataFrame(reduced_data)\n",
    "\n",
    "coordinates = coordinates.reset_index()\n",
    "coordinates = coordinates.drop('index', axis=1)\n",
    "\n",
    "content_coordinates = uniques.join(coordinates, lsuffix='labels', rsuffix='index')\n",
    "\n",
    "content_coordinates.head()"
   ]
  },
  {
   "cell_type": "code",
   "execution_count": null,
   "metadata": {
    "collapsed": true
   },
   "outputs": [],
   "source": [
    "centroids = kmeans.cluster_centers_"
   ]
  },
  {
   "cell_type": "code",
   "execution_count": 164,
   "metadata": {
    "collapsed": false
   },
   "outputs": [],
   "source": [
    "dist = (centroids[6] + centroids[14])/2.0"
   ]
  },
  {
   "cell_type": "code",
   "execution_count": 141,
   "metadata": {
    "collapsed": true
   },
   "outputs": [],
   "source": [
    "from scipy.spatial import KDTree"
   ]
  },
  {
   "cell_type": "code",
   "execution_count": 142,
   "metadata": {
    "collapsed": true
   },
   "outputs": [],
   "source": [
    "coordinate_ktree = KDTree(coordinates)"
   ]
  },
  {
   "cell_type": "code",
   "execution_count": 165,
   "metadata": {
    "collapsed": false
   },
   "outputs": [],
   "source": [
    "_, knn_indexes = coordinate_ktree.query(dist, 5)"
   ]
  },
  {
   "cell_type": "code",
   "execution_count": 166,
   "metadata": {
    "collapsed": false
   },
   "outputs": [
    {
     "data": {
      "text/plain": [
       "array([2056, 2238, 2131, 2090, 2086])"
      ]
     },
     "execution_count": 166,
     "metadata": {},
     "output_type": "execute_result"
    }
   ],
   "source": [
    "knn_indexes"
   ]
  },
  {
   "cell_type": "code",
   "execution_count": 180,
   "metadata": {
    "collapsed": false
   },
   "outputs": [],
   "source": [
    "articles = []\n",
    "for i in knn_indexes:\n",
    "     articles.append(uniques.iloc[[i]])"
   ]
  },
  {
   "cell_type": "code",
   "execution_count": 182,
   "metadata": {
    "collapsed": false
   },
   "outputs": [
    {
     "data": {
      "text/html": [
       "<div>\n",
       "<table border=\"1\" class=\"dataframe\">\n",
       "  <thead>\n",
       "    <tr style=\"text-align: right;\">\n",
       "      <th></th>\n",
       "      <th>title</th>\n",
       "      <th>link</th>\n",
       "      <th>content</th>\n",
       "      <th>stemmed_content</th>\n",
       "      <th>labels</th>\n",
       "    </tr>\n",
       "  </thead>\n",
       "  <tbody>\n",
       "    <tr>\n",
       "      <th>2056</th>\n",
       "      <td>\\n\\n\\n\\n           Omega-3 fatty acids, fish o...</td>\n",
       "      <td>http://www.mayoclinic.org/drugs-supplements/om...</td>\n",
       "      <td>Monografa de pacientes de Natural Standard, Co...</td>\n",
       "      <td>monografa de pacient de natur standard, copyri...</td>\n",
       "      <td>17</td>\n",
       "    </tr>\n",
       "    <tr>\n",
       "      <th>2238</th>\n",
       "      <td>\\n\\n\\n\\n           Coenzyme Q10 Evidence - May...</td>\n",
       "      <td>http://www.mayoclinic.org/drugs-supplements/co...</td>\n",
       "      <td>Monografa de pacientes de Natural Standard, Co...</td>\n",
       "      <td>monografa de pacient de natur standard, copyri...</td>\n",
       "      <td>17</td>\n",
       "    </tr>\n",
       "    <tr>\n",
       "      <th>2131</th>\n",
       "      <td>\\n\\n\\n\\n           Glucosamine Safety - Mayo C...</td>\n",
       "      <td>http://www.mayoclinic.org/drugs-supplements/gl...</td>\n",
       "      <td>Monografa de pacientes de Natural Standard, Co...</td>\n",
       "      <td>monografa de pacient de natur standard, copyri...</td>\n",
       "      <td>17</td>\n",
       "    </tr>\n",
       "    <tr>\n",
       "      <th>2090</th>\n",
       "      <td>\\n\\n\\n\\n           Tolvaptan (Oral Route) Befo...</td>\n",
       "      <td>http://www.mayoclinic.org/drugs-supplements/to...</td>\n",
       "      <td>Description and Brand NamesDrug information pr...</td>\n",
       "      <td>descript and brand namesdrug inform provid by:...</td>\n",
       "      <td>9</td>\n",
       "    </tr>\n",
       "    <tr>\n",
       "      <th>2086</th>\n",
       "      <td>\\n\\n\\n\\n           Cefuroxime (Injection Route...</td>\n",
       "      <td>http://www.mayoclinic.org/drugs-supplements/ce...</td>\n",
       "      <td>Description and Brand NamesDrug information pr...</td>\n",
       "      <td>descript and brand namesdrug inform provid by:...</td>\n",
       "      <td>9</td>\n",
       "    </tr>\n",
       "  </tbody>\n",
       "</table>\n",
       "</div>"
      ],
      "text/plain": [
       "                                                  title  \\\n",
       "2056  \\n\\n\\n\\n           Omega-3 fatty acids, fish o...   \n",
       "2238  \\n\\n\\n\\n           Coenzyme Q10 Evidence - May...   \n",
       "2131  \\n\\n\\n\\n           Glucosamine Safety - Mayo C...   \n",
       "2090  \\n\\n\\n\\n           Tolvaptan (Oral Route) Befo...   \n",
       "2086  \\n\\n\\n\\n           Cefuroxime (Injection Route...   \n",
       "\n",
       "                                                   link  \\\n",
       "2056  http://www.mayoclinic.org/drugs-supplements/om...   \n",
       "2238  http://www.mayoclinic.org/drugs-supplements/co...   \n",
       "2131  http://www.mayoclinic.org/drugs-supplements/gl...   \n",
       "2090  http://www.mayoclinic.org/drugs-supplements/to...   \n",
       "2086  http://www.mayoclinic.org/drugs-supplements/ce...   \n",
       "\n",
       "                                                content  \\\n",
       "2056  Monografa de pacientes de Natural Standard, Co...   \n",
       "2238  Monografa de pacientes de Natural Standard, Co...   \n",
       "2131  Monografa de pacientes de Natural Standard, Co...   \n",
       "2090  Description and Brand NamesDrug information pr...   \n",
       "2086  Description and Brand NamesDrug information pr...   \n",
       "\n",
       "                                        stemmed_content  labels  \n",
       "2056  monografa de pacient de natur standard, copyri...      17  \n",
       "2238  monografa de pacient de natur standard, copyri...      17  \n",
       "2131  monografa de pacient de natur standard, copyri...      17  \n",
       "2090  descript and brand namesdrug inform provid by:...       9  \n",
       "2086  descript and brand namesdrug inform provid by:...       9  "
      ]
     },
     "execution_count": 182,
     "metadata": {},
     "output_type": "execute_result"
    }
   ],
   "source": [
    "uniques.iloc[knn_indexes]"
   ]
  },
  {
   "cell_type": "code",
   "execution_count": 140,
   "metadata": {
    "collapsed": false
   },
   "outputs": [
    {
     "data": {
      "text/html": [
       "<div>\n",
       "<table border=\"1\" class=\"dataframe\">\n",
       "  <thead>\n",
       "    <tr style=\"text-align: right;\">\n",
       "      <th></th>\n",
       "      <th>title</th>\n",
       "      <th>link</th>\n",
       "      <th>content</th>\n",
       "      <th>stemmed_content</th>\n",
       "      <th>labels</th>\n",
       "      <th>0</th>\n",
       "      <th>1</th>\n",
       "      <th>2</th>\n",
       "      <th>3</th>\n",
       "      <th>4</th>\n",
       "      <th>...</th>\n",
       "      <th>6</th>\n",
       "      <th>7</th>\n",
       "      <th>8</th>\n",
       "      <th>9</th>\n",
       "      <th>10</th>\n",
       "      <th>11</th>\n",
       "      <th>12</th>\n",
       "      <th>13</th>\n",
       "      <th>14</th>\n",
       "      <th>dist</th>\n",
       "    </tr>\n",
       "  </thead>\n",
       "  <tbody>\n",
       "    <tr>\n",
       "      <th>0</th>\n",
       "      <td>Mini-Reviews – Nutrition (various books)</td>\n",
       "      <td>http://kellymom.com/parenting/reviews/reviews_...</td>\n",
       "      <td>Child of Mine: Feeding With Love and Good Sens...</td>\n",
       "      <td>child of mine: feed with love and good sens by...</td>\n",
       "      <td>15</td>\n",
       "      <td>-0.130720</td>\n",
       "      <td>0.020728</td>\n",
       "      <td>-0.006654</td>\n",
       "      <td>0.013871</td>\n",
       "      <td>-0.010658</td>\n",
       "      <td>...</td>\n",
       "      <td>-0.013200</td>\n",
       "      <td>-0.003879</td>\n",
       "      <td>-0.008841</td>\n",
       "      <td>-0.015568</td>\n",
       "      <td>0.056352</td>\n",
       "      <td>-0.005806</td>\n",
       "      <td>-0.028238</td>\n",
       "      <td>-0.001944</td>\n",
       "      <td>-0.014331</td>\n",
       "      <td>37.3514</td>\n",
       "    </tr>\n",
       "    <tr>\n",
       "      <th>1569</th>\n",
       "      <td>When Breast and Bottle Both Are Best</td>\n",
       "      <td>http://www.parenting.com/article/when-breast-a...</td>\n",
       "      <td>But once home, Clara's blissful ideas of breas...</td>\n",
       "      <td>but onc home, clara bliss idea of breastfeed w...</td>\n",
       "      <td>0</td>\n",
       "      <td>-0.154553</td>\n",
       "      <td>0.167003</td>\n",
       "      <td>0.009036</td>\n",
       "      <td>-0.097582</td>\n",
       "      <td>-0.000274</td>\n",
       "      <td>...</td>\n",
       "      <td>0.052667</td>\n",
       "      <td>0.028807</td>\n",
       "      <td>-0.018312</td>\n",
       "      <td>-0.000530</td>\n",
       "      <td>-0.008435</td>\n",
       "      <td>0.018720</td>\n",
       "      <td>-0.011097</td>\n",
       "      <td>-0.007523</td>\n",
       "      <td>-0.001014</td>\n",
       "      <td>37.3514</td>\n",
       "    </tr>\n",
       "    <tr>\n",
       "      <th>1570</th>\n",
       "      <td>The Power of Prenatal Yoga</td>\n",
       "      <td>http://www.parenting.com/blogs/project-pregnan...</td>\n",
       "      <td>&lt;p class=\"week-display-title\"&gt;find your week&lt;s...</td>\n",
       "      <td>&lt;p class=\"week-display-title\"&gt;find your week&lt;s...</td>\n",
       "      <td>16</td>\n",
       "      <td>-0.109368</td>\n",
       "      <td>-0.044099</td>\n",
       "      <td>-0.003673</td>\n",
       "      <td>-0.028553</td>\n",
       "      <td>-0.000740</td>\n",
       "      <td>...</td>\n",
       "      <td>-0.018883</td>\n",
       "      <td>-0.007958</td>\n",
       "      <td>0.005229</td>\n",
       "      <td>0.002495</td>\n",
       "      <td>0.014139</td>\n",
       "      <td>0.021715</td>\n",
       "      <td>0.010715</td>\n",
       "      <td>0.014223</td>\n",
       "      <td>0.015737</td>\n",
       "      <td>37.3514</td>\n",
       "    </tr>\n",
       "    <tr>\n",
       "      <th>1571</th>\n",
       "      <td>Should Babies Eat Fish?</td>\n",
       "      <td>http://www.parenting.com/article/feeding-fish-...</td>\n",
       "      <td>Sure, it's an untraditional &lt;span class=\"vm-ho...</td>\n",
       "      <td>sure, it an untradit &lt;span class=\"vm-hook-out ...</td>\n",
       "      <td>7</td>\n",
       "      <td>-0.136892</td>\n",
       "      <td>0.068382</td>\n",
       "      <td>0.001370</td>\n",
       "      <td>0.052263</td>\n",
       "      <td>-0.000338</td>\n",
       "      <td>...</td>\n",
       "      <td>-0.029829</td>\n",
       "      <td>0.030930</td>\n",
       "      <td>-0.017030</td>\n",
       "      <td>-0.010515</td>\n",
       "      <td>0.005213</td>\n",
       "      <td>-0.040224</td>\n",
       "      <td>-0.007200</td>\n",
       "      <td>-0.024638</td>\n",
       "      <td>0.033596</td>\n",
       "      <td>37.3514</td>\n",
       "    </tr>\n",
       "    <tr>\n",
       "      <th>1572</th>\n",
       "      <td>Tips for preschoolers: Healthy snacks and meals</td>\n",
       "      <td>https://www.babycenter.com/0_tips-for-preschoo...</td>\n",
       "      <td>Teach your preschooler to savor delicious and ...</td>\n",
       "      <td>teach your preschool to savor delici and nutri...</td>\n",
       "      <td>15</td>\n",
       "      <td>-0.136588</td>\n",
       "      <td>0.036667</td>\n",
       "      <td>-0.007499</td>\n",
       "      <td>0.083903</td>\n",
       "      <td>-0.025882</td>\n",
       "      <td>...</td>\n",
       "      <td>-0.028610</td>\n",
       "      <td>-0.008841</td>\n",
       "      <td>-0.006619</td>\n",
       "      <td>-0.019484</td>\n",
       "      <td>0.067313</td>\n",
       "      <td>-0.010101</td>\n",
       "      <td>-0.042052</td>\n",
       "      <td>-0.013108</td>\n",
       "      <td>-0.013870</td>\n",
       "      <td>37.3514</td>\n",
       "    </tr>\n",
       "  </tbody>\n",
       "</table>\n",
       "<p>5 rows × 21 columns</p>\n",
       "</div>"
      ],
      "text/plain": [
       "                                                title  \\\n",
       "0            Mini-Reviews – Nutrition (various books)   \n",
       "1569             When Breast and Bottle Both Are Best   \n",
       "1570                       The Power of Prenatal Yoga   \n",
       "1571                          Should Babies Eat Fish?   \n",
       "1572  Tips for preschoolers: Healthy snacks and meals   \n",
       "\n",
       "                                                   link  \\\n",
       "0     http://kellymom.com/parenting/reviews/reviews_...   \n",
       "1569  http://www.parenting.com/article/when-breast-a...   \n",
       "1570  http://www.parenting.com/blogs/project-pregnan...   \n",
       "1571  http://www.parenting.com/article/feeding-fish-...   \n",
       "1572  https://www.babycenter.com/0_tips-for-preschoo...   \n",
       "\n",
       "                                                content  \\\n",
       "0     Child of Mine: Feeding With Love and Good Sens...   \n",
       "1569  But once home, Clara's blissful ideas of breas...   \n",
       "1570  <p class=\"week-display-title\">find your week<s...   \n",
       "1571  Sure, it's an untraditional <span class=\"vm-ho...   \n",
       "1572  Teach your preschooler to savor delicious and ...   \n",
       "\n",
       "                                        stemmed_content  labels         0  \\\n",
       "0     child of mine: feed with love and good sens by...      15 -0.130720   \n",
       "1569  but onc home, clara bliss idea of breastfeed w...       0 -0.154553   \n",
       "1570  <p class=\"week-display-title\">find your week<s...      16 -0.109368   \n",
       "1571  sure, it an untradit <span class=\"vm-hook-out ...       7 -0.136892   \n",
       "1572  teach your preschool to savor delici and nutri...      15 -0.136588   \n",
       "\n",
       "             1         2         3         4   ...            6         7  \\\n",
       "0     0.020728 -0.006654  0.013871 -0.010658   ...    -0.013200 -0.003879   \n",
       "1569  0.167003  0.009036 -0.097582 -0.000274   ...     0.052667  0.028807   \n",
       "1570 -0.044099 -0.003673 -0.028553 -0.000740   ...    -0.018883 -0.007958   \n",
       "1571  0.068382  0.001370  0.052263 -0.000338   ...    -0.029829  0.030930   \n",
       "1572  0.036667 -0.007499  0.083903 -0.025882   ...    -0.028610 -0.008841   \n",
       "\n",
       "             8         9        10        11        12        13        14  \\\n",
       "0    -0.008841 -0.015568  0.056352 -0.005806 -0.028238 -0.001944 -0.014331   \n",
       "1569 -0.018312 -0.000530 -0.008435  0.018720 -0.011097 -0.007523 -0.001014   \n",
       "1570  0.005229  0.002495  0.014139  0.021715  0.010715  0.014223  0.015737   \n",
       "1571 -0.017030 -0.010515  0.005213 -0.040224 -0.007200 -0.024638  0.033596   \n",
       "1572 -0.006619 -0.019484  0.067313 -0.010101 -0.042052 -0.013108 -0.013870   \n",
       "\n",
       "         dist  \n",
       "0     37.3514  \n",
       "1569  37.3514  \n",
       "1570  37.3514  \n",
       "1571  37.3514  \n",
       "1572  37.3514  \n",
       "\n",
       "[5 rows x 21 columns]"
      ]
     },
     "execution_count": 140,
     "metadata": {},
     "output_type": "execute_result"
    }
   ],
   "source": [
    "content_coordinates['dist'] = np.linalg.norm(coordinates-dist)\n",
    "content_sorted = content_coordinates.sort_values('dist', axis=0)\n",
    "content_sorted.head()"
   ]
  },
  {
   "cell_type": "code",
   "execution_count": null,
   "metadata": {
    "collapsed": true
   },
   "outputs": [],
   "source": []
  },
  {
   "cell_type": "code",
   "execution_count": null,
   "metadata": {
    "collapsed": true
   },
   "outputs": [],
   "source": []
  },
  {
   "cell_type": "code",
   "execution_count": null,
   "metadata": {
    "collapsed": true
   },
   "outputs": [],
   "source": []
  },
  {
   "cell_type": "code",
   "execution_count": null,
   "metadata": {
    "collapsed": true
   },
   "outputs": [],
   "source": []
  },
  {
   "cell_type": "code",
   "execution_count": null,
   "metadata": {
    "collapsed": true
   },
   "outputs": [],
   "source": []
  },
  {
   "cell_type": "code",
   "execution_count": null,
   "metadata": {
    "collapsed": true
   },
   "outputs": [],
   "source": []
  },
  {
   "cell_type": "code",
   "execution_count": 125,
   "metadata": {
    "collapsed": false
   },
   "outputs": [
    {
     "data": {
      "text/plain": [
       "KMeans(algorithm='auto', copy_x=True, init='k-means++', max_iter=300,\n",
       "    n_clusters=20, n_init=10, n_jobs=1, precompute_distances='auto',\n",
       "    random_state=None, tol=0.0001, verbose=0)"
      ]
     },
     "execution_count": 125,
     "metadata": {},
     "output_type": "execute_result"
    }
   ],
   "source": [
    "kmeans = KMeans(init='k-means++', n_clusters=20, n_init=10)\n",
    "kmeans.fit(reduced_data)"
   ]
  },
  {
   "cell_type": "code",
   "execution_count": 34,
   "metadata": {
    "collapsed": true
   },
   "outputs": [],
   "source": [
    "# Step size of the mesh. Decrease to increase the quality of the VQ.\n",
    "h = .02     # point in the mesh [x_min, x_max]x[y_min, y_max].\n",
    "\n",
    "# Plot the decision boundary. For that, we will assign a color to each\n",
    "x_min, x_max = reduced_data[:, 0].min(), reduced_data[:, 0].max()\n",
    "y_min, y_max = reduced_data[:, 1].min(), reduced_data[:, 1].max()\n",
    "xx, yy = np.meshgrid(np.arange(x_min, x_max, h), np.arange(y_min, y_max, h))"
   ]
  },
  {
   "cell_type": "code",
   "execution_count": 35,
   "metadata": {
    "collapsed": false
   },
   "outputs": [
    {
     "data": {
      "image/png": "[encoded data removed]",
      "text/plain": [
       "<matplotlib.figure.Figure at 0x1137d9a90>"
      ]
     },
     "metadata": {},
     "output_type": "display_data"
    }
   ],
   "source": [
    "plt.plot(reduced_data[:, 0], reduced_data[:, 1], 'k.', markersize=2)\n",
    "# Plot the centroids as a white X\n",
    "centroids = kmeans.cluster_centers_\n",
    "plt.scatter(centroids[:, 0], centroids[:, 1],\n",
    "            marker='x', s=169, linewidths=3,\n",
    "            color='r', zorder=10)\n",
    "# for i, txt in enumerate(n):\n",
    "#     ax.annotate(txt, (z[i],y[i]))\n",
    "# plt.title('K-means clustering on the digits dataset (PCA-reduced data)\\n'\n",
    "#           'Centroids are marked with white cross')\n",
    "plt.xlim(x_min, x_max)\n",
    "plt.ylim(y_min, y_max)\n",
    "plt.xticks(())\n",
    "plt.yticks(())\n",
    "plt.show()"
   ]
  },
  {
   "cell_type": "code",
   "execution_count": 93,
   "metadata": {
    "collapsed": false
   },
   "outputs": [
    {
     "name": "stdout",
     "output_type": "stream",
     "text": [
      "top features for each cluster:\n",
      "0: 00playback, 01, 0157, 05, 04health, 05loaded, 001, 06, 03health, 04\n",
      "1: 00, 000, 001, 01loaded, 04, 02, 01, 03, 05, 05loaded\n",
      "2: 000, 00playback, 01, 0157, 01playback, 05playback, 03health, 03, 001, 06\n",
      "3: 001, 00progress, 00, 00playback, 0000, 01, 03, 04health, 05playback, 05\n",
      "4: 00, 00loaded, 00playback, 000, 00progress, 01, 01playback, 04, 05, 04health\n",
      "5: 000, 02, 00progress, 01playback, 04, 04health, 05, 06, 05loaded, 00loaded\n",
      "6: 01playback, 001, 00loaded, 0000, 0157, 00playback, 03, 04health, 05loaded, 00\n",
      "7: 000, 00playback, 01playback, 03health, 01, 03, 05playback, 05loaded, 01loaded, 04\n",
      "8: 06, 00playback, 03health, 01loaded, 04health, 05playback, 05, 05loaded, 04, 00progress\n",
      "9: 000, 0157, 0000, 00loaded, 001, 02, 03, 06, 01loaded, 05loaded\n",
      "10: 0000, 00playback, 01playback, 000, 04, 0157, 05loaded, 05playback, 05, 01loaded\n",
      "11: 000, 0000, 00loaded, 001, 02, 03health, 01loaded, 04, 05, 05loaded\n",
      "12: 00, 000, 001, 01loaded, 04, 03health, 05, 06, 04health, 05playback\n",
      "13: 00progress, 0157, 04, 00loaded, 03, 05loaded, 03health, 0000, 06, 05\n",
      "14: 00, 001, 02, 03, 0000, 05playback, 00progress, 05loaded, 01loaded, 06\n",
      "15: 01loaded, 0157, 00progress, 01playback, 00loaded, 05loaded, 05, 001, 01, 06\n",
      "16: 01, 0000, 01playback, 00loaded, 0157, 02, 00progress, 03health, 05loaded, 03\n",
      "17: 000, 03, 0000, 00loaded, 01loaded, 00progress, 05, 06, 01playback, 05loaded\n",
      "18: 0000, 00loaded, 00progress, 05playback, 04health, 03health, 06, 02, 001, 05\n",
      "19: 03, 02, 0157, 00playback, 01loaded, 04, 001, 05playback, 06, 05\n"
     ]
    }
   ],
   "source": [
    "top_centroids = kmeans.cluster_centers_.argsort()[:,-1:-11:-1]\n",
    "print \"top features for each cluster:\"\n",
    "for num, centroid in enumerate(top_centroids):\n",
    "    print \"%d: %s\" % (num, \", \".join(true_features[i] for i in centroid))"
   ]
  },
  {
   "cell_type": "code",
   "execution_count": 102,
   "metadata": {
    "collapsed": false
   },
   "outputs": [
    {
     "data": {
      "text/plain": [
       "array([15,  4,  4, ...,  2,  7,  2], dtype=int32)"
      ]
     },
     "execution_count": 102,
     "metadata": {},
     "output_type": "execute_result"
    }
   ],
   "source": [
    "labels = km_true.labels_\n",
    "labels"
   ]
  },
  {
   "cell_type": "code",
   "execution_count": 103,
   "metadata": {
    "collapsed": false
   },
   "outputs": [
    {
     "data": {
      "text/html": [
       "<div>\n",
       "<table border=\"1\" class=\"dataframe\">\n",
       "  <thead>\n",
       "    <tr style=\"text-align: right;\">\n",
       "      <th></th>\n",
       "      <th>title</th>\n",
       "      <th>link</th>\n",
       "      <th>content</th>\n",
       "      <th>stemmed_content</th>\n",
       "      <th>labels</th>\n",
       "    </tr>\n",
       "  </thead>\n",
       "  <tbody>\n",
       "    <tr>\n",
       "      <th>0</th>\n",
       "      <td>Mini-Reviews – Nutrition (various books)</td>\n",
       "      <td>http://kellymom.com/parenting/reviews/reviews_...</td>\n",
       "      <td>Child of Mine: Feeding With Love and Good Sens...</td>\n",
       "      <td>child of mine: feed with love and good sens by...</td>\n",
       "      <td>15</td>\n",
       "    </tr>\n",
       "    <tr>\n",
       "      <th>1</th>\n",
       "      <td>Nutrition for mom while pregnant &amp; breastfeedi...</td>\n",
       "      <td>http://kellymom.com/tandem-faq/04momnutrition/</td>\n",
       "      <td>Special Dietary Considerations (Nursing &amp; preg...</td>\n",
       "      <td>special dietari consider (nurs &amp; pregnant/tand...</td>\n",
       "      <td>4</td>\n",
       "    </tr>\n",
       "    <tr>\n",
       "      <th>2</th>\n",
       "      <td>Will breastfeeding affect the nutrition of my ...</td>\n",
       "      <td>http://kellymom.com/tandem-faq/03fetalnutrition/</td>\n",
       "      <td>This concern is valid for malnourished mothers...</td>\n",
       "      <td>this concern is valid for malnourish mothers, ...</td>\n",
       "      <td>4</td>\n",
       "    </tr>\n",
       "    <tr>\n",
       "      <th>3</th>\n",
       "      <td>Nutrition for Breastfeeding Toddlers</td>\n",
       "      <td>http://kellymom.com/nutrition/starting-solids/...</td>\n",
       "      <td>DeutschIt seems that all the the information I...</td>\n",
       "      <td>deutschit seem that all the the inform i see r...</td>\n",
       "      <td>18</td>\n",
       "    </tr>\n",
       "    <tr>\n",
       "      <th>4</th>\n",
       "      <td>Meet Our Sponsor: Theralogix</td>\n",
       "      <td>http://kellymom.com/current-sponsor/meet-spons...</td>\n",
       "      <td>Our sponsor for the month is Theralogix. They ...</td>\n",
       "      <td>our sponsor for the month is theralogix. they ...</td>\n",
       "      <td>3</td>\n",
       "    </tr>\n",
       "  </tbody>\n",
       "</table>\n",
       "</div>"
      ],
      "text/plain": [
       "                                               title  \\\n",
       "0           Mini-Reviews – Nutrition (various books)   \n",
       "1  Nutrition for mom while pregnant & breastfeedi...   \n",
       "2  Will breastfeeding affect the nutrition of my ...   \n",
       "3               Nutrition for Breastfeeding Toddlers   \n",
       "4                       Meet Our Sponsor: Theralogix   \n",
       "\n",
       "                                                link  \\\n",
       "0  http://kellymom.com/parenting/reviews/reviews_...   \n",
       "1     http://kellymom.com/tandem-faq/04momnutrition/   \n",
       "2   http://kellymom.com/tandem-faq/03fetalnutrition/   \n",
       "3  http://kellymom.com/nutrition/starting-solids/...   \n",
       "4  http://kellymom.com/current-sponsor/meet-spons...   \n",
       "\n",
       "                                             content  \\\n",
       "0  Child of Mine: Feeding With Love and Good Sens...   \n",
       "1  Special Dietary Considerations (Nursing & preg...   \n",
       "2  This concern is valid for malnourished mothers...   \n",
       "3  DeutschIt seems that all the the information I...   \n",
       "4  Our sponsor for the month is Theralogix. They ...   \n",
       "\n",
       "                                     stemmed_content  labels  \n",
       "0  child of mine: feed with love and good sens by...      15  \n",
       "1  special dietari consider (nurs & pregnant/tand...       4  \n",
       "2  this concern is valid for malnourish mothers, ...       4  \n",
       "3  deutschit seem that all the the inform i see r...      18  \n",
       "4  our sponsor for the month is theralogix. they ...       3  "
      ]
     },
     "execution_count": 103,
     "metadata": {},
     "output_type": "execute_result"
    }
   ],
   "source": [
    "uniques['labels'] = labels\n",
    "uniques.head()"
   ]
  },
  {
   "cell_type": "code",
   "execution_count": 39,
   "metadata": {
    "collapsed": false
   },
   "outputs": [],
   "source": [
    "from collections import Counter\n",
    "label_count = Counter(labels)"
   ]
  },
  {
   "cell_type": "code",
   "execution_count": 40,
   "metadata": {
    "collapsed": false
   },
   "outputs": [
    {
     "data": {
      "text/plain": [
       "Counter({0: 226,\n",
       "         1: 71,\n",
       "         2: 30,\n",
       "         3: 217,\n",
       "         4: 155,\n",
       "         5: 35,\n",
       "         6: 45,\n",
       "         7: 196,\n",
       "         8: 217,\n",
       "         9: 59,\n",
       "         10: 96,\n",
       "         11: 178,\n",
       "         12: 76,\n",
       "         13: 267,\n",
       "         14: 492})"
      ]
     },
     "execution_count": 40,
     "metadata": {},
     "output_type": "execute_result"
    }
   ],
   "source": [
    "label_count"
   ]
  },
  {
   "cell_type": "code",
   "execution_count": null,
   "metadata": {
    "collapsed": true
   },
   "outputs": [],
   "source": [
    "centroids = kmeans.cluster_centers_"
   ]
  },
  {
   "cell_type": "code",
   "execution_count": 130,
   "metadata": {
    "collapsed": false
   },
   "outputs": [],
   "source": []
  },
  {
   "cell_type": "code",
   "execution_count": 106,
   "metadata": {
    "collapsed": false
   },
   "outputs": [],
   "source": [
    "centroids_df = pd.DataFrame(data = centroids)\n",
    "\n",
    "centroids_df = centroids_df.reset_index()\n",
    "\n",
    "content_centroids = uniques.join(centroids_df, lsuffix='labels', rsuffix='index')\n",
    "\n",
    "content_centroids.head()"
   ]
  },
  {
   "cell_type": "code",
   "execution_count": null,
   "metadata": {
    "collapsed": true
   },
   "outputs": [],
   "source": []
  },
  {
   "cell_type": "code",
   "execution_count": null,
   "metadata": {
    "collapsed": true
   },
   "outputs": [],
   "source": []
  },
  {
   "cell_type": "code",
   "execution_count": null,
   "metadata": {
    "collapsed": true
   },
   "outputs": [],
   "source": []
  },
  {
   "cell_type": "code",
   "execution_count": null,
   "metadata": {
    "collapsed": true
   },
   "outputs": [],
   "source": []
  },
  {
   "cell_type": "markdown",
   "metadata": {},
   "source": [
    "# Creating a Dendrogram"
   ]
  },
  {
   "cell_type": "code",
   "execution_count": 35,
   "metadata": {
    "collapsed": true
   },
   "outputs": [],
   "source": [
    "from scipy.spatial.distance import pdist, squareform\n",
    "from scipy.cluster import hierarchy"
   ]
  },
  {
   "cell_type": "code",
   "execution_count": 36,
   "metadata": {
    "collapsed": false
   },
   "outputs": [],
   "source": [
    "# first vectorize...\n",
    "vectorizer = TfidfVectorizer(stop_words= stop, max_features=1000)\n",
    "X = vectorizer.fit_transform(content_stemmed)\n",
    "features = vectorizer.get_feature_names()\n",
    "\n",
    "# now get distances\n",
    "distxy = squareform(pdist(X.todense(), metric='cosine'))\n",
    "\n",
    "\n",
    "# Pass this matrix into scipy's linkage function to compute our\n",
    "# hierarchical clusters.\n",
    "link = hierarchy.linkage(distxy, method='complete')"
   ]
  },
  {
   "cell_type": "code",
   "execution_count": 42,
   "metadata": {
    "collapsed": false
   },
   "outputs": [
    {
     "data": {
      "image/png": "[encoded data removed]",
      "text/plain": [
       "<matplotlib.figure.Figure at 0x13ca9be90>"
      ]
     },
     "metadata": {},
     "output_type": "display_data"
    }
   ],
   "source": [
    "# 5. Using scipy's dendrogram function plot the linkages as\n",
    "# a hierachical tree.\n",
    "dendro = hierarchy.dendrogram(link, p=7, color_threshold=7, leaf_font_size=5, truncate_mode='level')\n",
    "plt.show()"
   ]
  },
  {
   "cell_type": "code",
   "execution_count": 40,
   "metadata": {
    "collapsed": false
   },
   "outputs": [
    {
     "data": {
      "image/png": "[encoded data removed]",
      "text/plain": [
       "<matplotlib.figure.Figure at 0x13c636b90>"
      ]
     },
     "metadata": {},
     "output_type": "display_data"
    }
   ],
   "source": [
    "dendro = hierarchy.dendrogram(link, p=5, color_threshold=7, leaf_font_size=5, truncate_mode='level')\n",
    "plt.show()"
   ]
  },
  {
   "cell_type": "code",
   "execution_count": null,
   "metadata": {
    "collapsed": true
   },
   "outputs": [],
   "source": []
  },
  {
   "cell_type": "code",
   "execution_count": null,
   "metadata": {
    "collapsed": true
   },
   "outputs": [],
   "source": []
  },
  {
   "cell_type": "code",
   "execution_count": null,
   "metadata": {
    "collapsed": true
   },
   "outputs": [],
   "source": []
  },
  {
   "cell_type": "code",
   "execution_count": null,
   "metadata": {
    "collapsed": false
   },
   "outputs": [],
   "source": []
  },
  {
   "cell_type": "code",
   "execution_count": null,
   "metadata": {
    "collapsed": true
   },
   "outputs": [],
   "source": [
    "false_text = false_claims[2]"
   ]
  },
  {
   "cell_type": "code",
   "execution_count": null,
   "metadata": {
    "collapsed": false
   },
   "outputs": [],
   "source": [
    "def tokenize(text_column):\n",
    "    text_list = list(text_column)\n",
    "    #convert all lines to strings (some were floats (?)\n",
    "    string_list = []\n",
    "    for item in text_list:\n",
    "        string_list.append(str(item))\n",
    "\n",
    "    # decode unicode into ascii\n",
    "    content_clean = []\n",
    "    for item in string_list:\n",
    "        content_clean.append(item.decode('utf-8').encode('ascii','ignore').replace('\\n', ' '))\n",
    "    tokenized_list = [word_tokenize(content.lower()) for content in content_clean]\n",
    "    return tokenized_list\n",
    "\n",
    "def remove_stopwords(tokenized_list, stopword_list):\n",
    "    stop = set(stopwords.words('english'))\n",
    "    stop.update(stopword_list)\n",
    "    documents = [[word for word in words if word not in stop]\n",
    "        for words in tokenized_list]\n",
    "    return documents\n",
    "\n",
    "def stem(doc_list, stemmer ='snowball' ):\n",
    "    stemmed_rows = []\n",
    "    if stemmer=='snowball':\n",
    "        for line in doc_list:\n",
    "            stemmed = [snowball.stem(word) for word in line]\n",
    "            stemmed_rows.append(stemmed)\n",
    "    content_stemmed = []\n",
    "    for row in stemmed_rows:\n",
    "        content_stemmed.append(' '.join(row))\n",
    "    return content_stemmed\n"
   ]
  },
  {
   "cell_type": "code",
   "execution_count": null,
   "metadata": {
    "collapsed": false
   },
   "outputs": [],
   "source": [
    "false_tokens = tokenize(false_text)"
   ]
  },
  {
   "cell_type": "code",
   "execution_count": null,
   "metadata": {
    "collapsed": true
   },
   "outputs": [],
   "source": [
    "false_no_stop = remove_stopwords(false_tokens, html_stopwords)"
   ]
  },
  {
   "cell_type": "code",
   "execution_count": null,
   "metadata": {
    "collapsed": false
   },
   "outputs": [],
   "source": [
    "false_stemmed = stem(false_no_stop)"
   ]
  },
  {
   "cell_type": "code",
   "execution_count": null,
   "metadata": {
    "collapsed": false
   },
   "outputs": [],
   "source": [
    "false_stemmed[0:5]"
   ]
  },
  {
   "cell_type": "markdown",
   "metadata": {},
   "source": [
    "# False claims KMeans"
   ]
  },
  {
   "cell_type": "code",
   "execution_count": null,
   "metadata": {
    "collapsed": false
   },
   "outputs": [],
   "source": [
    "false_vector = TfidfVectorizer(stop_words=stop)\n",
    "false_sparse_matrix = false_vector.fit_transform(false_stemmed)\n",
    "false_features = false_vector.get_feature_names()"
   ]
  },
  {
   "cell_type": "code",
   "execution_count": null,
   "metadata": {
    "collapsed": false
   },
   "outputs": [],
   "source": [
    "false_features[5000:5050]"
   ]
  },
  {
   "cell_type": "code",
   "execution_count": null,
   "metadata": {
    "collapsed": true
   },
   "outputs": [],
   "source": [
    "! touch ../data/false_corpus.csv"
   ]
  },
  {
   "cell_type": "code",
   "execution_count": null,
   "metadata": {
    "collapsed": true
   },
   "outputs": [],
   "source": [
    "false_claims.to_csv('../data/false_corpus.csv')"
   ]
  },
  {
   "cell_type": "code",
   "execution_count": null,
   "metadata": {
    "collapsed": false
   },
   "outputs": [],
   "source": [
    "false_claims.head()"
   ]
  },
  {
   "cell_type": "code",
   "execution_count": null,
   "metadata": {
    "collapsed": false
   },
   "outputs": [],
   "source": [
    "km_false = KMeans(n_clusters=8)"
   ]
  },
  {
   "cell_type": "code",
   "execution_count": null,
   "metadata": {
    "collapsed": false
   },
   "outputs": [],
   "source": [
    "km_false.fit(false_sparse_matrix)"
   ]
  },
  {
   "cell_type": "code",
   "execution_count": null,
   "metadata": {
    "collapsed": false
   },
   "outputs": [],
   "source": [
    "km_false.cluster_centers_.shape.argsort()[:,]"
   ]
  },
  {
   "cell_type": "code",
   "execution_count": null,
   "metadata": {
    "collapsed": false
   },
   "outputs": [],
   "source": [
    "top_centroids = km_false.cluster_centers_.argsort()[:,-1:-11:-1]\n",
    "print \"top features for each cluster:\"\n",
    "for num, centroid in enumerate(top_centroids):\n",
    "    print \"%d: %s\" % (num, \", \".join(false_features[i] for i in centroid))"
   ]
  },
  {
   "cell_type": "code",
   "execution_count": null,
   "metadata": {
    "collapsed": true
   },
   "outputs": [],
   "source": []
  },
  {
   "cell_type": "code",
   "execution_count": null,
   "metadata": {
    "collapsed": true
   },
   "outputs": [],
   "source": []
  },
  {
   "cell_type": "code",
   "execution_count": null,
   "metadata": {
    "collapsed": true
   },
   "outputs": [],
   "source": []
  },
  {
   "cell_type": "code",
   "execution_count": null,
   "metadata": {
    "collapsed": true
   },
   "outputs": [],
   "source": []
  },
  {
   "cell_type": "code",
   "execution_count": null,
   "metadata": {
    "collapsed": true
   },
   "outputs": [],
   "source": []
  },
  {
   "cell_type": "code",
   "execution_count": null,
   "metadata": {
    "collapsed": true
   },
   "outputs": [],
   "source": []
  }
 ],
 "metadata": {
  "anaconda-cloud": {},
  "kernelspec": {
   "display_name": "Python [default]",
   "language": "python",
   "name": "python2"
  },
  "language_info": {
   "codemirror_mode": {
    "name": "ipython",
    "version": 2
   },
   "file_extension": ".py",
   "mimetype": "text/x-python",
   "name": "python",
   "nbconvert_exporter": "python",
   "pygments_lexer": "ipython2",
   "version": "2.7.12"
  }
 },
 "nbformat": 4,
 "nbformat_minor": 1
}
